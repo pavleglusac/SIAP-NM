{
 "cells": [
  {
   "cell_type": "code",
   "execution_count": 1,
   "metadata": {},
   "outputs": [],
   "source": [
    "import numpy as np\n",
    "import pandas as pd\n",
    "import optuna\n",
    "from statsmodels.tsa.statespace.sarimax import SARIMAX\n",
    "from sklearn.metrics import mean_squared_error\n"
   ]
  },
  {
   "cell_type": "code",
   "execution_count": 2,
   "metadata": {},
   "outputs": [],
   "source": [
    "df = pd.read_csv('../../train_belgrade.csv')\n",
    "\n",
    "df['Timestamp'] = pd.to_datetime(df['Timestamp'])"
   ]
  },
  {
   "cell_type": "code",
   "execution_count": 3,
   "metadata": {},
   "outputs": [],
   "source": [
    "def objective(trial):\n",
    "    # Define the parameter space\n",
    "    p = trial.suggest_int('p', 0, 3)\n",
    "    d = trial.suggest_int('d', 0, 2)\n",
    "    q = trial.suggest_int('q', 0, 3)\n",
    "    P = trial.suggest_int('P', 0, 2)\n",
    "    D = trial.suggest_int('D', 0, 1)\n",
    "    Q = trial.suggest_int('Q', 0, 2)\n",
    "    s = trial.suggest_categorical('s', [288, 2016])\n",
    "\n",
    "    train_size = int(len(df) * 0.8)\n",
    "    train, test = df.iloc[:train_size], df.iloc[train_size:]\n",
    "\n",
    "    try:\n",
    "        model = SARIMAX(train['Detections'], order=(p, d, q), seasonal_order=(P, D, Q, s), enforce_stationarity=False, enforce_invertibility=False)\n",
    "        model_fit = model.fit(disp=False)\n",
    "\n",
    "        forecast = model_fit.forecast(steps=len(test))\n",
    "\n",
    "        mse = mean_squared_error(test['Detections'], forecast)\n",
    "    except Exception as e:\n",
    "        print(f\"Error: {e}\")\n",
    "        mse = np.inf\n",
    "\n",
    "    return mse\n"
   ]
  },
  {
   "cell_type": "code",
   "execution_count": 4,
   "metadata": {},
   "outputs": [
    {
     "name": "stderr",
     "output_type": "stream",
     "text": [
      "[I 2024-02-18 22:13:22,522] A new study created in memory with name: no-name-8d461151-2397-4c96-ade9-179311a452ca\n",
      "/Users/pavleglusac/Personal/Master/SIAP/venv/lib/python3.10/site-packages/statsmodels/base/model.py:607: ConvergenceWarning: Maximum Likelihood optimization failed to converge. Check mle_retvals\n",
      "  warnings.warn(\"Maximum Likelihood optimization failed to \"\n",
      "[I 2024-02-18 22:14:58,303] Trial 0 finished with value: 45.72819537112374 and parameters: {'p': 3, 'd': 0, 'q': 3}. Best is trial 0 with value: 45.72819537112374.\n",
      "[I 2024-02-18 22:15:27,761] Trial 1 finished with value: 803.6991788531298 and parameters: {'p': 0, 'd': 2, 'q': 1}. Best is trial 0 with value: 45.72819537112374.\n",
      "[I 2024-02-18 22:16:07,970] Trial 2 finished with value: 159.0571566205344 and parameters: {'p': 3, 'd': 1, 'q': 1}. Best is trial 0 with value: 45.72819537112374.\n",
      "[I 2024-02-18 22:16:20,923] Trial 3 finished with value: 302.7603611714143 and parameters: {'p': 0, 'd': 1, 'q': 0}. Best is trial 0 with value: 45.72819537112374.\n",
      "[I 2024-02-18 22:16:26,634] Trial 4 finished with value: 141.2332756810953 and parameters: {'p': 0, 'd': 0, 'q': 0}. Best is trial 0 with value: 45.72819537112374.\n",
      "/Users/pavleglusac/Personal/Master/SIAP/venv/lib/python3.10/site-packages/statsmodels/base/model.py:607: ConvergenceWarning: Maximum Likelihood optimization failed to converge. Check mle_retvals\n",
      "  warnings.warn(\"Maximum Likelihood optimization failed to \"\n",
      "[I 2024-02-18 22:17:55,820] Trial 5 finished with value: 45.72819537112374 and parameters: {'p': 3, 'd': 0, 'q': 3}. Best is trial 0 with value: 45.72819537112374.\n"
     ]
    }
   ],
   "source": [
    "\n",
    "# Set up Optuna\n",
    "study = optuna.create_study(direction='minimize')\n",
    "study.optimize(objective, n_trials=50)\n"
   ]
  },
  {
   "cell_type": "code",
   "execution_count": null,
   "metadata": {},
   "outputs": [
    {
     "name": "stdout",
     "output_type": "stream",
     "text": [
      "Best Parameters: {'p': 1, 'd': 0, 'q': 3, 's': 2016}\n",
      "Best MSE: 113.71186630078755\n"
     ]
    }
   ],
   "source": [
    "\n",
    "best_params = study.best_params\n",
    "best_mse = study.best_value\n",
    "\n",
    "print(f\"Best Parameters: {best_params}\")\n",
    "print(f\"Best MSE: {best_mse}\")\n"
   ]
  },
  {
   "cell_type": "code",
   "execution_count": null,
   "metadata": {},
   "outputs": [
    {
     "ename": "KeyError",
     "evalue": "'P'",
     "output_type": "error",
     "traceback": [
      "\u001b[0;31m---------------------------------------------------------------------------\u001b[0m",
      "\u001b[0;31mKeyError\u001b[0m                                  Traceback (most recent call last)",
      "Cell \u001b[0;32mIn[6], line 2\u001b[0m\n\u001b[1;32m      1\u001b[0m best_order \u001b[38;5;241m=\u001b[39m (best_params[\u001b[38;5;124m'\u001b[39m\u001b[38;5;124mp\u001b[39m\u001b[38;5;124m'\u001b[39m], best_params[\u001b[38;5;124m'\u001b[39m\u001b[38;5;124md\u001b[39m\u001b[38;5;124m'\u001b[39m], best_params[\u001b[38;5;124m'\u001b[39m\u001b[38;5;124mq\u001b[39m\u001b[38;5;124m'\u001b[39m])\n\u001b[0;32m----> 2\u001b[0m best_seasonal_order \u001b[38;5;241m=\u001b[39m (\u001b[43mbest_params\u001b[49m\u001b[43m[\u001b[49m\u001b[38;5;124;43m'\u001b[39;49m\u001b[38;5;124;43mP\u001b[39;49m\u001b[38;5;124;43m'\u001b[39;49m\u001b[43m]\u001b[49m, best_params[\u001b[38;5;124m'\u001b[39m\u001b[38;5;124mD\u001b[39m\u001b[38;5;124m'\u001b[39m], best_params[\u001b[38;5;124m'\u001b[39m\u001b[38;5;124mQ\u001b[39m\u001b[38;5;124m'\u001b[39m], best_params[\u001b[38;5;124m'\u001b[39m\u001b[38;5;124ms\u001b[39m\u001b[38;5;124m'\u001b[39m])\n\u001b[1;32m      4\u001b[0m model \u001b[38;5;241m=\u001b[39m SARIMAX(df[\u001b[38;5;124m'\u001b[39m\u001b[38;5;124mDetections\u001b[39m\u001b[38;5;124m'\u001b[39m], order\u001b[38;5;241m=\u001b[39mbest_order, seasonal_order\u001b[38;5;241m=\u001b[39mbest_seasonal_order, enforce_stationarity\u001b[38;5;241m=\u001b[39m\u001b[38;5;28;01mFalse\u001b[39;00m, enforce_invertibility\u001b[38;5;241m=\u001b[39m\u001b[38;5;28;01mFalse\u001b[39;00m)\n\u001b[1;32m      5\u001b[0m model_fit \u001b[38;5;241m=\u001b[39m model\u001b[38;5;241m.\u001b[39mfit()\n",
      "\u001b[0;31mKeyError\u001b[0m: 'P'"
     ]
    }
   ],
   "source": [
    "\n",
    "best_order = (best_params['p'], best_params['d'], best_params['q'])\n",
    "best_seasonal_order = (best_params['P'], best_params['D'], best_params['Q'], best_params['s'])\n",
    "\n",
    "model = SARIMAX(df['Detections'], order=best_order, seasonal_order=best_seasonal_order, enforce_stationarity=False, enforce_invertibility=False)\n",
    "model_fit = model.fit()"
   ]
  }
 ],
 "metadata": {
  "kernelspec": {
   "display_name": "venv",
   "language": "python",
   "name": "python3"
  },
  "language_info": {
   "codemirror_mode": {
    "name": "ipython",
    "version": 3
   },
   "file_extension": ".py",
   "mimetype": "text/x-python",
   "name": "python",
   "nbconvert_exporter": "python",
   "pygments_lexer": "ipython3",
   "version": "3.10.0"
  }
 },
 "nbformat": 4,
 "nbformat_minor": 2
}
