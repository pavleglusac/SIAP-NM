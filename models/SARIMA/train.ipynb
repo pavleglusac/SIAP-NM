{
 "cells": [
  {
   "cell_type": "code",
   "execution_count": 26,
   "id": "cd7cdfbb44a31f78",
   "metadata": {
    "collapsed": false,
    "ExecuteTime": {
     "end_time": "2024-01-17T20:11:20.897720Z",
     "start_time": "2024-01-17T20:11:20.892952Z"
    }
   },
   "outputs": [],
   "source": [
    "import pandas as pd\n",
    "from sklearn.model_selection import train_test_split\n",
    "from sklearn.ensemble import RandomForestRegressor\n",
    "from sklearn.metrics import mean_squared_error\n",
    "from sklearn.preprocessing import LabelEncoder\n",
    "from statsmodels.tsa.arima.model import ARIMA"
   ]
  },
  {
   "cell_type": "code",
   "outputs": [],
   "source": [
    "df = pd.read_csv('train.csv')\n",
    "\n",
    "df['Timestamp'] = pd.to_datetime(df['Timestamp'])\n",
    "df['Hour'] = df['Timestamp'].dt.hour\n",
    "df['Minute'] = df['Timestamp'].dt.minute\n",
    "df['DayOfWeek'] = df['Timestamp'].dt.dayofweek\n",
    "df = df.drop(['index', 'Timestamp', 'WeatherDescription'], axis=1)"
   ],
   "metadata": {
    "collapsed": false,
    "ExecuteTime": {
     "end_time": "2024-01-17T20:11:21.106480Z",
     "start_time": "2024-01-17T20:11:20.903868Z"
    }
   },
   "id": "8c9395586fec91e7",
   "execution_count": 27
  },
  {
   "cell_type": "code",
   "outputs": [],
   "source": [
    "le = LabelEncoder()\n",
    "df['WeatherMain'] = le.fit_transform(df['WeatherMain'])"
   ],
   "metadata": {
    "collapsed": false,
    "ExecuteTime": {
     "end_time": "2024-01-17T20:11:21.107051Z",
     "start_time": "2024-01-17T20:11:21.023463Z"
    }
   },
   "id": "e025e5416e4471d8",
   "execution_count": 28
  },
  {
   "cell_type": "code",
   "outputs": [],
   "source": [
    "X = df.drop('Detections', axis=1)\n",
    "y = df['Detections']"
   ],
   "metadata": {
    "collapsed": false,
    "ExecuteTime": {
     "end_time": "2024-01-17T20:11:21.107476Z",
     "start_time": "2024-01-17T20:11:21.023709Z"
    }
   },
   "id": "5f364acb8aceac39",
   "execution_count": 29
  },
  {
   "cell_type": "code",
   "outputs": [
    {
     "name": "stdout",
     "output_type": "stream",
     "text": [
      "Mean Squared Error: 59.04857442923864\n"
     ]
    }
   ],
   "source": [
    "train_size = int(len(df) * 0.7)\n",
    "train, test = df['Detections'][0:train_size], df['Detections'][train_size:]\n",
    "\n",
    "model = ARIMA(train, order=(1, 1, 2))\n",
    "model_fit = model.fit()\n",
    "\n",
    "forecast = model_fit.forecast(steps=len(test))\n",
    "\n",
    "mse = mean_squared_error(test, forecast)\n",
    "print(f'Mean Squared Error: {mse}')"
   ],
   "metadata": {
    "collapsed": false,
    "ExecuteTime": {
     "end_time": "2024-01-17T20:16:14.250918Z",
     "start_time": "2024-01-17T20:16:12.891778Z"
    }
   },
   "id": "f33fafe957f62170",
   "execution_count": 34
  },
  {
   "cell_type": "code",
   "outputs": [],
   "source": [],
   "metadata": {
    "collapsed": false
   },
   "id": "41dc7734d699cc7a"
  }
 ],
 "metadata": {
  "kernelspec": {
   "display_name": "Python 3",
   "language": "python",
   "name": "python3"
  },
  "language_info": {
   "codemirror_mode": {
    "name": "ipython",
    "version": 2
   },
   "file_extension": ".py",
   "mimetype": "text/x-python",
   "name": "python",
   "nbconvert_exporter": "python",
   "pygments_lexer": "ipython2",
   "version": "2.7.6"
  }
 },
 "nbformat": 4,
 "nbformat_minor": 5
}
