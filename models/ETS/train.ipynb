{
 "cells": [
  {
   "cell_type": "code",
   "execution_count": 1,
   "metadata": {},
   "outputs": [],
   "source": [
    "import pandas as pd\n",
    "from statsmodels.tsa.holtwinters import ExponentialSmoothing\n",
    "from sklearn.metrics import mean_squared_error, mean_absolute_error\n",
    "from statsmodels.tools.eval_measures import rmse\n",
    "import optuna"
   ]
  },
  {
   "cell_type": "code",
   "execution_count": 2,
   "metadata": {},
   "outputs": [],
   "source": [
    "df = pd.read_csv('../../train_belgrade.csv')\n",
    "\n",
    "df['Timestamp'] = pd.to_datetime(df['Timestamp'])"
   ]
  },
  {
   "cell_type": "code",
   "execution_count": 3,
   "metadata": {},
   "outputs": [],
   "source": [
    "train_size = int(len(df) * 0.9)\n",
    "train, test = df[0:train_size], df[train_size:]"
   ]
  },
  {
   "cell_type": "code",
   "execution_count": 4,
   "metadata": {},
   "outputs": [
    {
     "name": "stdout",
     "output_type": "stream",
     "text": [
      "Index(['Unnamed: 0', 'Timestamp', 'Detections', 'index', 'WeatherMain',\n",
      "       'Temperature', 'WeatherDescription'],\n",
      "      dtype='object')\n"
     ]
    }
   ],
   "source": [
    "target_column = 'Detections'\n",
    "\n",
    "print(train.columns)\n"
   ]
  },
  {
   "cell_type": "code",
   "execution_count": 5,
   "metadata": {},
   "outputs": [],
   "source": [
    "def objective(trial):\n",
    "    params = {\n",
    "        'trend': trial.suggest_categorical('trend', [None, 'add']),\n",
    "        'seasonal': trial.suggest_categorical('seasonal', [None, 'add']),\n",
    "        'seasonal_periods': trial.suggest_categorical('seasonal_periods', [120, 288, 288*7])\n",
    "    }\n",
    "\n",
    "    model = ExponentialSmoothing(train[target_column], **params)\n",
    "    fitted_model = model.fit(optimized=True)\n",
    "\n",
    "    predictions = fitted_model.forecast(len(test))\n",
    "\n",
    "    mse = mean_squared_error(test[target_column], predictions)\n",
    "\n",
    "    return mse\n"
   ]
  },
  {
   "cell_type": "code",
   "execution_count": 6,
   "metadata": {},
   "outputs": [
    {
     "name": "stderr",
     "output_type": "stream",
     "text": [
      "[I 2024-03-06 23:24:58,440] A new study created in memory with name: no-name-055f3661-8856-4628-b1e8-15c777342253\n",
      "[I 2024-03-06 23:24:58,825] Trial 0 finished with value: 154.23292090633598 and parameters: {'trend': 'add', 'seasonal': None, 'seasonal_periods': 2016}. Best is trial 0 with value: 154.23292090633598.\n",
      "[I 2024-03-06 23:24:59,114] Trial 1 finished with value: 154.23292090633598 and parameters: {'trend': 'add', 'seasonal': None, 'seasonal_periods': 288}. Best is trial 0 with value: 154.23292090633598.\n",
      "[I 2024-03-06 23:24:59,324] Trial 2 finished with value: 138.35301726821334 and parameters: {'trend': None, 'seasonal': 'add', 'seasonal_periods': 120}. Best is trial 2 with value: 138.35301726821334.\n",
      "[I 2024-03-06 23:25:01,448] Trial 3 finished with value: 97.10898159081512 and parameters: {'trend': 'add', 'seasonal': 'add', 'seasonal_periods': 288}. Best is trial 3 with value: 97.10898159081512.\n",
      "[I 2024-03-06 23:25:01,750] Trial 4 finished with value: 154.23292090633598 and parameters: {'trend': 'add', 'seasonal': None, 'seasonal_periods': 2016}. Best is trial 3 with value: 97.10898159081512.\n",
      "[I 2024-03-06 23:25:01,781] Trial 5 finished with value: 134.90569584457114 and parameters: {'trend': None, 'seasonal': None, 'seasonal_periods': 2016}. Best is trial 3 with value: 97.10898159081512.\n",
      "[I 2024-03-06 23:25:04,014] Trial 6 finished with value: 97.10898159081512 and parameters: {'trend': 'add', 'seasonal': 'add', 'seasonal_periods': 288}. Best is trial 3 with value: 97.10898159081512.\n",
      "[I 2024-03-06 23:25:46,916] Trial 7 finished with value: 73.144880918099 and parameters: {'trend': None, 'seasonal': 'add', 'seasonal_periods': 2016}. Best is trial 7 with value: 73.144880918099.\n",
      "[I 2024-03-06 23:25:47,602] Trial 8 finished with value: 80.58417192138226 and parameters: {'trend': None, 'seasonal': 'add', 'seasonal_periods': 288}. Best is trial 7 with value: 73.144880918099.\n",
      "[I 2024-03-06 23:25:47,640] Trial 9 finished with value: 134.90569584457114 and parameters: {'trend': None, 'seasonal': None, 'seasonal_periods': 288}. Best is trial 7 with value: 73.144880918099.\n"
     ]
    }
   ],
   "source": [
    "study = optuna.create_study(direction='minimize')\n",
    "study.optimize(objective, n_trials=10)\n"
   ]
  },
  {
   "cell_type": "code",
   "execution_count": 7,
   "metadata": {},
   "outputs": [
    {
     "name": "stdout",
     "output_type": "stream",
     "text": [
      "Best MSE: 73.144880918099\n"
     ]
    }
   ],
   "source": [
    "best_params = study.best_params\n",
    "best_model = ExponentialSmoothing(train[target_column], trend=best_params['trend'], seasonal=best_params['seasonal'], seasonal_periods=best_params['seasonal_periods']).fit()\n",
    "best_predictions = best_model.forecast(len(test))\n",
    "\n",
    "best_mse = mean_squared_error(test[target_column], best_predictions)\n",
    "\n",
    "print(f\"Best MSE: {best_mse}\")\n"
   ]
  },
  {
   "cell_type": "code",
   "execution_count": 8,
   "metadata": {},
   "outputs": [],
   "source": [
    "# TODO: grafik, stacionarnost, analiza gresaka"
   ]
  }
 ],
 "metadata": {
  "kernelspec": {
   "display_name": "venv",
   "language": "python",
   "name": "python3"
  },
  "language_info": {
   "codemirror_mode": {
    "name": "ipython",
    "version": 3
   },
   "file_extension": ".py",
   "mimetype": "text/x-python",
   "name": "python",
   "nbconvert_exporter": "python",
   "pygments_lexer": "ipython3",
   "version": "3.10.0"
  }
 },
 "nbformat": 4,
 "nbformat_minor": 2
}
