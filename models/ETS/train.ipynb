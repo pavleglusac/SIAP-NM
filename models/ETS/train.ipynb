{
 "cells": [
  {
   "cell_type": "code",
   "execution_count": 41,
   "metadata": {},
   "outputs": [],
   "source": [
    "import pandas as pd\n",
    "from statsmodels.tsa.holtwinters import ExponentialSmoothing\n",
    "from sklearn.metrics import mean_squared_error, mean_absolute_error\n",
    "from statsmodels.tools.eval_measures import rmse\n",
    "import optuna"
   ]
  },
  {
   "cell_type": "code",
   "execution_count": 42,
   "metadata": {},
   "outputs": [],
   "source": [
    "df = pd.read_csv('../../train_belgrade.csv')\n",
    "\n",
    "df['Timestamp'] = pd.to_datetime(df['Timestamp'])"
   ]
  },
  {
   "cell_type": "code",
   "execution_count": 43,
   "metadata": {},
   "outputs": [],
   "source": [
    "train_size = int(len(df) * 0.8)\n",
    "train, test = df[0:train_size], df[train_size:]"
   ]
  },
  {
   "cell_type": "code",
   "execution_count": 44,
   "metadata": {},
   "outputs": [
    {
     "name": "stdout",
     "output_type": "stream",
     "text": [
      "Index(['Unnamed: 0', 'Timestamp', 'Detections', 'index', 'WeatherMain',\n",
      "       'Temperature', 'WeatherDescription'],\n",
      "      dtype='object')\n"
     ]
    }
   ],
   "source": [
    "target_column = 'Detections'\n",
    "\n",
    "print(train.columns)\n"
   ]
  },
  {
   "cell_type": "code",
   "execution_count": 45,
   "metadata": {},
   "outputs": [],
   "source": [
    "def objective(trial):\n",
    "    params = {\n",
    "        'trend': trial.suggest_categorical('trend', [None, 'add']),\n",
    "        'seasonal': trial.suggest_categorical('seasonal', [None, 'add']),\n",
    "        'seasonal_periods': trial.suggest_categorical('seasonal_periods', [120, 288, 288*7])\n",
    "    }\n",
    "\n",
    "    model = ExponentialSmoothing(train[target_column], trend=params['trend'], seasonal=params['seasonal'], seasonal_periods=params['seasonal_periods'])\n",
    "    fitted_model = model.fit(optimized=True)\n",
    "\n",
    "    predictions = fitted_model.forecast(len(test))\n",
    "\n",
    "    mse = mean_squared_error(test[target_column], predictions)\n",
    "\n",
    "    return mse\n"
   ]
  },
  {
   "cell_type": "code",
   "execution_count": 46,
   "metadata": {},
   "outputs": [
    {
     "name": "stderr",
     "output_type": "stream",
     "text": [
      "[I 2024-02-18 21:58:05,854] A new study created in memory with name: no-name-2191aca9-30b3-4a1c-ba17-35ffbb2f6bc3\n",
      "[I 2024-02-18 21:58:06,800] Trial 0 finished with value: 145.13829456430744 and parameters: {'trend': None, 'seasonal': 'add', 'seasonal_periods': 120}. Best is trial 0 with value: 145.13829456430744.\n",
      "[I 2024-02-18 21:59:09,002] Trial 1 finished with value: 263.1092713299548 and parameters: {'trend': None, 'seasonal': 'add', 'seasonal_periods': 2016}. Best is trial 0 with value: 145.13829456430744.\n",
      "[I 2024-02-18 21:59:09,638] Trial 2 finished with value: 160.9383405537474 and parameters: {'trend': 'add', 'seasonal': None, 'seasonal_periods': 2016}. Best is trial 0 with value: 145.13829456430744.\n",
      "[I 2024-02-18 21:59:10,166] Trial 3 finished with value: 160.9383405537474 and parameters: {'trend': 'add', 'seasonal': None, 'seasonal_periods': 288}. Best is trial 0 with value: 145.13829456430744.\n",
      "[I 2024-02-18 22:00:09,990] Trial 4 finished with value: 263.1092713299548 and parameters: {'trend': None, 'seasonal': 'add', 'seasonal_periods': 2016}. Best is trial 0 with value: 145.13829456430744.\n",
      "[I 2024-02-18 22:00:10,048] Trial 5 finished with value: 154.02434597671234 and parameters: {'trend': None, 'seasonal': None, 'seasonal_periods': 288}. Best is trial 0 with value: 145.13829456430744.\n",
      "[I 2024-02-18 22:00:10,095] Trial 6 finished with value: 154.02434597671234 and parameters: {'trend': None, 'seasonal': None, 'seasonal_periods': 288}. Best is trial 0 with value: 145.13829456430744.\n",
      "[I 2024-02-18 22:00:10,146] Trial 7 finished with value: 154.02434597671234 and parameters: {'trend': None, 'seasonal': None, 'seasonal_periods': 288}. Best is trial 0 with value: 145.13829456430744.\n",
      "[I 2024-02-18 22:00:13,170] Trial 8 finished with value: 150.26208772754083 and parameters: {'trend': 'add', 'seasonal': 'add', 'seasonal_periods': 120}. Best is trial 0 with value: 145.13829456430744.\n",
      "[I 2024-02-18 22:00:13,234] Trial 9 finished with value: 154.02434597671234 and parameters: {'trend': None, 'seasonal': None, 'seasonal_periods': 288}. Best is trial 0 with value: 145.13829456430744.\n"
     ]
    }
   ],
   "source": [
    "study = optuna.create_study(direction='minimize')\n",
    "study.optimize(objective, n_trials=10)\n"
   ]
  },
  {
   "cell_type": "code",
   "execution_count": 47,
   "metadata": {},
   "outputs": [
    {
     "name": "stdout",
     "output_type": "stream",
     "text": [
      "Best MSE: 145.13829456430744\n"
     ]
    }
   ],
   "source": [
    "best_params = study.best_params\n",
    "best_model = ExponentialSmoothing(train[target_column], trend=best_params['trend'], seasonal=best_params['seasonal'], seasonal_periods=best_params['seasonal_periods']).fit()\n",
    "best_predictions = best_model.forecast(len(test))\n",
    "\n",
    "best_mse = mean_squared_error(test[target_column], best_predictions)\n",
    "\n",
    "print(f\"Best MSE: {best_mse}\")\n"
   ]
  }
 ],
 "metadata": {
  "kernelspec": {
   "display_name": "venv",
   "language": "python",
   "name": "python3"
  },
  "language_info": {
   "codemirror_mode": {
    "name": "ipython",
    "version": 3
   },
   "file_extension": ".py",
   "mimetype": "text/x-python",
   "name": "python",
   "nbconvert_exporter": "python",
   "pygments_lexer": "ipython3",
   "version": "3.10.0"
  }
 },
 "nbformat": 4,
 "nbformat_minor": 2
}
