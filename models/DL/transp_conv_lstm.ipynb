{
 "cells": [
  {
   "cell_type": "code",
   "execution_count": 1,
   "metadata": {},
   "outputs": [
    {
     "name": "stderr",
     "output_type": "stream",
     "text": [
      "/mnt/ACA058A9A0587C30/Faks/Master/SIAP-NM/venv/lib/python3.10/site-packages/tqdm/auto.py:21: TqdmWarning: IProgress not found. Please update jupyter and ipywidgets. See https://ipywidgets.readthedocs.io/en/stable/user_install.html\n",
      "  from .autonotebook import tqdm as notebook_tqdm\n"
     ]
    }
   ],
   "source": [
    "import torch\n",
    "import optuna\n",
    "import numpy as np\n",
    "import torch.nn as nn\n",
    "import torch.optim as optim\n",
    "import torch.nn.functional as F\n",
    "import pandas as pd\n",
    "from torch.utils.data import DataLoader, Dataset\n",
    "from sklearn.model_selection import train_test_split\n",
    "from sklearn.preprocessing import StandardScaler\n",
    "import pathlib"
   ]
  },
  {
   "cell_type": "code",
   "execution_count": 2,
   "metadata": {},
   "outputs": [],
   "source": [
    "def df_to_X_y_vector(df, lags, future):\n",
    "    X = []\n",
    "    y = []\n",
    "    for i in range(len(df) - lags - future):\n",
    "        x_window_rows = df.iloc[i:i + lags]\n",
    "        x_row = [list(x_window_rows.iloc[j]) for j in range(lags)]\n",
    "        X.append(x_row)\n",
    "        y_window_rows = df.iloc[i + lags:i + lags + future]\n",
    "        y_row = [y_window_rows.iloc[j]['Detections'] for j in range(future)]\n",
    "        y.append(y_row)\n",
    "    return np.array(X), np.array(y)"
   ]
  },
  {
   "cell_type": "code",
   "execution_count": 3,
   "metadata": {},
   "outputs": [],
   "source": [
    "def get_df(path):\n",
    "    df = pd.read_csv(path)\n",
    "    df = df.drop(['WeatherDescription', 'Unnamed: 0', 'index'], axis=1)\n",
    "    df = pd.get_dummies(df, columns=['WeatherMain'], prefix='WeatherMain')\n",
    "    df['Timestamp'] = pd.to_datetime(df['Timestamp'])\n",
    "    df['Year'] = df['Timestamp'].dt.year\n",
    "    df['Month'] = df['Timestamp'].dt.month\n",
    "    df['Day'] = df['Timestamp'].dt.day\n",
    "    df['Hour'] = df['Timestamp'].dt.hour\n",
    "    df = df.drop(['Timestamp', 'WeatherMain_Snow', 'Year'], axis=1)\n",
    "    return df_to_X_y_vector(df, 288, 288)"
   ]
  },
  {
   "cell_type": "code",
   "execution_count": 4,
   "metadata": {},
   "outputs": [],
   "source": [
    "# path = '../../train_belgrade.csv'\n",
    "# X, y = get_df(path)\n",
    "# X = np.reshape(X, (X.shape[0], X.shape[1], X.shape[2]))\n",
    "# X_train_raw, X_temp, y_train_raw, y_temp = train_test_split(X, y, test_size=0.2, random_state=42)\n",
    "# # X_val_raw, X_test_raw, y_val_raw, y_test_raw = train_test_split(X_temp, y_temp, test_size=0.5, random_state=42)"
   ]
  },
  {
   "cell_type": "code",
   "execution_count": 5,
   "metadata": {},
   "outputs": [],
   "source": [
    "# # save all data to csv files and save the shape of the data\n",
    "# pathlib.Path('data').mkdir(parents=True, exist_ok=True)\n",
    "# np.savetxt('data/X_train_raw.csv', X_train_raw.reshape(X_train_raw.shape[0], -1), delimiter=',')\n",
    "# np.savetxt('data/y_train_raw.csv', y_train_raw, delimiter=',')\n",
    "# np.savetxt('data/X_val_raw.csv', X_val_raw.reshape(X_val_raw.shape[0], -1), delimiter=',')\n",
    "# np.savetxt('data/y_val_raw.csv', y_val_raw, delimiter=',')\n",
    "# np.savetxt('data/X_test_raw.csv', X_test_raw.reshape(X_test_raw.shape[0], -1), delimiter=',')\n",
    "# np.savetxt('data/y_test_raw.csv', y_test_raw, delimiter=',')\n"
   ]
  },
  {
   "cell_type": "code",
   "execution_count": 6,
   "metadata": {},
   "outputs": [
    {
     "name": "stdout",
     "output_type": "stream",
     "text": [
      "(11248, 288, 8) (11248, 288) (1406, 288, 8) (1406, 288) (1407, 288, 8) (1407, 288)\n"
     ]
    }
   ],
   "source": [
    "# load data from csv files\n",
    "X_train_raw = np.loadtxt('data/X_train_raw.csv', delimiter=',').reshape(-1, 288, 8)\n",
    "y_train_raw = np.loadtxt('data/y_train_raw.csv', delimiter=',')\n",
    "X_val_raw = np.loadtxt('data/X_val_raw.csv', delimiter=',').reshape(-1, 288, 8)\n",
    "y_val_raw = np.loadtxt('data/y_val_raw.csv', delimiter=',')\n",
    "X_test_raw = np.loadtxt('data/X_test_raw.csv', delimiter=',').reshape(-1, 288, 8)\n",
    "y_test_raw = np.loadtxt('data/y_test_raw.csv', delimiter=',')\n",
    "print(X_train_raw.shape, y_train_raw.shape, X_val_raw.shape, y_val_raw.shape, X_test_raw.shape, y_test_raw.shape)"
   ]
  },
  {
   "cell_type": "code",
   "execution_count": 7,
   "metadata": {},
   "outputs": [],
   "source": [
    "device = torch.device('cuda' if torch.cuda.is_available() else 'cpu')\n",
    "device = 'cpu'"
   ]
  },
  {
   "cell_type": "code",
   "execution_count": 8,
   "metadata": {},
   "outputs": [
    {
     "name": "stdout",
     "output_type": "stream",
     "text": [
      "torch.Size([11248, 8, 288]) torch.Size([11248, 288])\n"
     ]
    }
   ],
   "source": [
    "X_train = torch.tensor(X_train_raw, dtype=torch.float32).to(device)\n",
    "y_train = torch.tensor(y_train_raw, dtype=torch.float32).to(device)\n",
    "X_val = torch.tensor(X_val_raw, dtype=torch.float32).to(device)\n",
    "y_val = torch.tensor(y_val_raw, dtype=torch.float32).to(device)\n",
    "\n",
    "\n",
    "X_train = X_train.permute(0, 2, 1)\n",
    "X_val = X_val.permute(0, 2, 1)\n",
    "\n",
    "\n",
    "print(X_train.shape, y_train.shape)"
   ]
  },
  {
   "cell_type": "code",
   "execution_count": 9,
   "metadata": {},
   "outputs": [],
   "source": [
    "class CustomLSTM(nn.Module):\n",
    "    def __init__(self, input_dim, hidden_size, **kwargs):\n",
    "        super().__init__()\n",
    "        self.last_layer = kwargs.pop('last_layer', False)\n",
    "        self.lstm = nn.GRU(input_dim, hidden_size, **kwargs)\n",
    "\n",
    "    def forward(self, x):\n",
    "        output, _ = self.lstm(x)\n",
    "        if self.last_layer:\n",
    "            return output[:, -1, :]\n",
    "        return output\n"
   ]
  },
  {
   "cell_type": "code",
   "execution_count": 10,
   "metadata": {},
   "outputs": [],
   "source": [
    "class ForecastModel(nn.Module):\n",
    "    def __init__(self, trial, input_dim, output_dim):\n",
    "        super().__init__()\n",
    "        self.num_layers = trial.suggest_int('num_layers', 1, 3)\n",
    "        self.dropout = trial.suggest_float('dropout', 0.05, 0.25)\n",
    "        self.hidden_size = trial.suggest_int('hidden_size', 16, 128)\n",
    "        self.input_dim = input_dim\n",
    "        self.output_dim = output_dim\n",
    "        self.rnn_layers = []\n",
    "        self.conv = nn.Conv1d(in_channels=8, out_channels=8, kernel_size=24, stride=6)\n",
    "        # calculate the input size for the first layer\n",
    "        first_input_dim = (288 - 24) // 6 + 1\n",
    "        for i in range(self.num_layers):\n",
    "            input_size = self.hidden_size if i != 0 else first_input_dim\n",
    "            hidden_size = self.hidden_size if i != self.num_layers - 1 else 96\n",
    "            self.rnn_layers.append(CustomLSTM(input_size, hidden_size, batch_first=True))\n",
    "            self.rnn_layers.append(nn.Dropout(self.dropout))\n",
    "        self.rnn_layers = nn.ModuleList(self.rnn_layers)\n",
    "        self.transpose_conv = nn.ConvTranspose1d(in_channels=8, out_channels=8, kernel_size=6, stride=3)\n",
    "        self.flattned_size = ((hidden_size - 1) * 3 + 6)*8\n",
    "        self.flatten = nn.Flatten()\n",
    "        self.fc = nn.Linear(self.flattned_size, self.output_dim)\n",
    "        \n",
    "\n",
    "    def forward(self, x):\n",
    "        x = self.conv(x)\n",
    "        for layer in self.rnn_layers:\n",
    "            x = layer(x)\n",
    "        x = self.transpose_conv(x)\n",
    "        x = F.relu(x)\n",
    "        # print(x.shape)\n",
    "        x = self.flatten(x)\n",
    "        x = self.fc(x)\n",
    "        x = F.relu(x)\n",
    "        return x"
   ]
  },
  {
   "cell_type": "code",
   "execution_count": 11,
   "metadata": {},
   "outputs": [],
   "source": [
    "trial_data = {}"
   ]
  },
  {
   "cell_type": "code",
   "execution_count": 12,
   "metadata": {},
   "outputs": [],
   "source": [
    "def objective(trial):\n",
    "    # Assuming data preparation steps are already done, and you have X_train, y_train, X_val, y_val as tensors\n",
    "    # print('Inputs:', X_train.shape, y_train.shape)\n",
    "    \n",
    "    model = ForecastModel(trial, input_dim=8, output_dim=288).to(device)\n",
    "\n",
    "    \n",
    "    criterion = nn.MSELoss()\n",
    "    optimizer = optim.Adam(model.parameters(), lr=trial.suggest_float('lr', 1e-5, 1e-3, log=True))\n",
    "    \n",
    "    # Example: Train the model\n",
    "    epochs = 10\n",
    "    mini_batch_size = 32\n",
    "    train_losses = []\n",
    "    val_losses = []\n",
    "    for epoch in range(epochs):\n",
    "        model.train()\n",
    "        train_loss = 0\n",
    "        for i in range(0, len(X_train), mini_batch_size):\n",
    "            optimizer.zero_grad()\n",
    "            X_batch = X_train[i:i+mini_batch_size]\n",
    "            y_batch = y_train[i:i+mini_batch_size]\n",
    "            output = model(X_batch)\n",
    "            loss = criterion(output, y_batch)\n",
    "            loss.backward()\n",
    "            optimizer.step()\n",
    "            # loss is a vector of size mini_batch_size, we need to sum it up\n",
    "            # print(loss.item())\n",
    "            train_loss += loss.item()\n",
    "        train_losses.append(train_loss / len(range(0, len(X_train), mini_batch_size)))\n",
    "        model.eval()\n",
    "        with torch.no_grad():\n",
    "            val_output = model(X_val)\n",
    "            val_loss = criterion(val_output, y_val)\n",
    "            val_losses.append(val_loss.item())\n",
    "    \n",
    "    trial_data[trial.number] = {\n",
    "        'train_losses': train_losses,\n",
    "        'val_losses': val_losses\n",
    "    }\n",
    "    \n",
    "    print(f'Epoch {epoch+1}/{epochs}, Loss: {val_loss.item()}')\n",
    "    # save model\n",
    "    output_path = pathlib.Path('./lstm_models')\n",
    "    output_path.mkdir(exist_ok=True)\n",
    "    torch.save(model.state_dict(), output_path/f'model_{trial.number}.pth')\n",
    "\n",
    "            \n",
    "    return val_loss.item()\n"
   ]
  },
  {
   "cell_type": "code",
   "execution_count": 13,
   "metadata": {},
   "outputs": [
    {
     "name": "stderr",
     "output_type": "stream",
     "text": [
      "[I 2024-04-04 23:22:50,192] A new study created in memory with name: no-name-d067913f-dc8e-467d-b0d4-cdf04bb1737f\n",
      "[I 2024-04-04 23:23:32,720] Trial 0 finished with value: 18.257396697998047 and parameters: {'num_layers': 2, 'dropout': 0.08308357015892637, 'hidden_size': 109, 'lr': 0.0003000547898440922}. Best is trial 0 with value: 18.257396697998047.\n"
     ]
    },
    {
     "name": "stdout",
     "output_type": "stream",
     "text": [
      "Epoch 10/10, Loss: 18.257396697998047\n"
     ]
    },
    {
     "name": "stderr",
     "output_type": "stream",
     "text": [
      "[I 2024-04-04 23:24:02,771] Trial 1 finished with value: 21.58600616455078 and parameters: {'num_layers': 1, 'dropout': 0.09486602467813975, 'hidden_size': 43, 'lr': 0.0002531330323972389}. Best is trial 0 with value: 18.257396697998047.\n"
     ]
    },
    {
     "name": "stdout",
     "output_type": "stream",
     "text": [
      "Epoch 10/10, Loss: 21.58600616455078\n"
     ]
    },
    {
     "name": "stderr",
     "output_type": "stream",
     "text": [
      "[I 2024-04-04 23:24:32,818] Trial 2 finished with value: 24.896482467651367 and parameters: {'num_layers': 1, 'dropout': 0.22089824291115245, 'hidden_size': 26, 'lr': 7.532119718572285e-05}. Best is trial 0 with value: 18.257396697998047.\n"
     ]
    },
    {
     "name": "stdout",
     "output_type": "stream",
     "text": [
      "Epoch 10/10, Loss: 24.896482467651367\n"
     ]
    },
    {
     "name": "stderr",
     "output_type": "stream",
     "text": [
      "[I 2024-04-04 23:25:13,687] Trial 3 finished with value: 20.01398468017578 and parameters: {'num_layers': 2, 'dropout': 0.06001950087837027, 'hidden_size': 92, 'lr': 0.0003482940238921959}. Best is trial 0 with value: 18.257396697998047.\n"
     ]
    },
    {
     "name": "stdout",
     "output_type": "stream",
     "text": [
      "Epoch 10/10, Loss: 20.01398468017578\n"
     ]
    },
    {
     "name": "stderr",
     "output_type": "stream",
     "text": [
      "[I 2024-04-04 23:25:53,192] Trial 4 finished with value: 18.01898765563965 and parameters: {'num_layers': 2, 'dropout': 0.20170039541085966, 'hidden_size': 75, 'lr': 0.000530766845802589}. Best is trial 4 with value: 18.01898765563965.\n"
     ]
    },
    {
     "name": "stdout",
     "output_type": "stream",
     "text": [
      "Epoch 10/10, Loss: 18.01898765563965\n"
     ]
    },
    {
     "name": "stderr",
     "output_type": "stream",
     "text": [
      "[I 2024-04-04 23:26:39,955] Trial 5 finished with value: 21.76688003540039 and parameters: {'num_layers': 3, 'dropout': 0.15572327924064647, 'hidden_size': 45, 'lr': 0.0002838271044914522}. Best is trial 4 with value: 18.01898765563965.\n"
     ]
    },
    {
     "name": "stdout",
     "output_type": "stream",
     "text": [
      "Epoch 10/10, Loss: 21.76688003540039\n"
     ]
    },
    {
     "name": "stderr",
     "output_type": "stream",
     "text": [
      "[I 2024-04-04 23:27:24,807] Trial 6 finished with value: 46.259521484375 and parameters: {'num_layers': 2, 'dropout': 0.09047161302261753, 'hidden_size': 109, 'lr': 3.065986575553508e-05}. Best is trial 4 with value: 18.01898765563965.\n"
     ]
    },
    {
     "name": "stdout",
     "output_type": "stream",
     "text": [
      "Epoch 10/10, Loss: 46.259521484375\n"
     ]
    },
    {
     "name": "stderr",
     "output_type": "stream",
     "text": [
      "[I 2024-04-04 23:28:10,795] Trial 7 finished with value: 51.625492095947266 and parameters: {'num_layers': 3, 'dropout': 0.10479777561841229, 'hidden_size': 42, 'lr': 2.353988864868014e-05}. Best is trial 4 with value: 18.01898765563965.\n"
     ]
    },
    {
     "name": "stdout",
     "output_type": "stream",
     "text": [
      "Epoch 10/10, Loss: 51.625492095947266\n"
     ]
    },
    {
     "name": "stderr",
     "output_type": "stream",
     "text": [
      "[I 2024-04-04 23:28:41,221] Trial 8 finished with value: 39.82392501831055 and parameters: {'num_layers': 1, 'dropout': 0.19378700760842182, 'hidden_size': 109, 'lr': 3.446352344478439e-05}. Best is trial 4 with value: 18.01898765563965.\n"
     ]
    },
    {
     "name": "stdout",
     "output_type": "stream",
     "text": [
      "Epoch 10/10, Loss: 39.82392501831055\n"
     ]
    },
    {
     "name": "stderr",
     "output_type": "stream",
     "text": [
      "[I 2024-04-04 23:29:24,134] Trial 9 finished with value: 30.329120635986328 and parameters: {'num_layers': 2, 'dropout': 0.05730840443980756, 'hidden_size': 96, 'lr': 4.7145070753754143e-05}. Best is trial 4 with value: 18.01898765563965.\n"
     ]
    },
    {
     "name": "stdout",
     "output_type": "stream",
     "text": [
      "Epoch 10/10, Loss: 30.329120635986328\n",
      "Best trial score: 18.01898765563965\n",
      "num_layers: 2\n",
      "dropout: 0.20170039541085966\n",
      "hidden_size: 75\n",
      "lr: 0.000530766845802589\n"
     ]
    }
   ],
   "source": [
    "study = optuna.create_study(direction='minimize')\n",
    "study.optimize(objective, n_trials=10)\n",
    "\n",
    "best_trial = study.best_trial\n",
    "print(f'Best trial score: {best_trial.value}')\n",
    "for key, value in best_trial.params.items():\n",
    "    print(f'{key}: {value}')\n"
   ]
  },
  {
   "cell_type": "code",
   "execution_count": 14,
   "metadata": {},
   "outputs": [
    {
     "data": {
      "image/png": "[encoded data removed]",
      "text/plain": [
       "<Figure size 640x480 with 1 Axes>"
      ]
     },
     "metadata": {},
     "output_type": "display_data"
    }
   ],
   "source": [
    "import matplotlib.pyplot as plt\n",
    "plt.plot(trial_data[best_trial.number]['train_losses'], label='train')\n",
    "plt.plot(trial_data[best_trial.number]['val_losses'], label='val')\n",
    "plt.legend()\n",
    "plt.show()"
   ]
  },
  {
   "cell_type": "code",
   "execution_count": 15,
   "metadata": {},
   "outputs": [],
   "source": [
    "# evaluate on test set\n",
    "X_test = torch.tensor(X_test_raw, dtype=torch.float32)\n",
    "X_test = X_test.permute(0, 1, 2)\n",
    "y_test = torch.tensor(y_test_raw, dtype=torch.float32)\n",
    "\n",
    "criterion = nn.MSELoss()\n"
   ]
  },
  {
   "cell_type": "code",
   "execution_count": 16,
   "metadata": {},
   "outputs": [],
   "source": [
    "# best_trial = {'num_layers': 2, 'dropout': 0.3907331240770967, 'hidden_size': 127, 'lr': 0.0004603846594084274}"
   ]
  },
  {
   "cell_type": "code",
   "execution_count": 17,
   "metadata": {},
   "outputs": [
    {
     "data": {
      "text/plain": [
       "4"
      ]
     },
     "execution_count": 17,
     "metadata": {},
     "output_type": "execute_result"
    }
   ],
   "source": [
    "best_trial.number"
   ]
  },
  {
   "cell_type": "code",
   "execution_count": 18,
   "metadata": {},
   "outputs": [
    {
     "data": {
      "text/plain": [
       "True"
      ]
     },
     "execution_count": 18,
     "metadata": {},
     "output_type": "execute_result"
    }
   ],
   "source": [
    "0.0004 == 4e-4"
   ]
  },
  {
   "cell_type": "code",
   "execution_count": 21,
   "metadata": {},
   "outputs": [
    {
     "data": {
      "text/plain": [
       "<All keys matched successfully>"
      ]
     },
     "execution_count": 21,
     "metadata": {},
     "output_type": "execute_result"
    }
   ],
   "source": [
    "\n",
    "model = ForecastModel(best_trial, input_dim=8, output_dim=288).to(device)\n",
    "model.eval()\n",
    "model.load_state_dict(torch.load(f'./lstm_models/model_{best_trial.number}.pth'))\n"
   ]
  },
  {
   "cell_type": "code",
   "execution_count": 22,
   "metadata": {},
   "outputs": [
    {
     "data": {
      "text/plain": [
       "4"
      ]
     },
     "execution_count": 22,
     "metadata": {},
     "output_type": "execute_result"
    }
   ],
   "source": [
    "best_trial.number"
   ]
  },
  {
   "cell_type": "code",
   "execution_count": 23,
   "metadata": {},
   "outputs": [
    {
     "name": "stderr",
     "output_type": "stream",
     "text": [
      "/mnt/ACA058A9A0587C30/Faks/Master/SIAP-NM/venv/lib/python3.10/site-packages/torch/onnx/symbolic_opset9.py:4662: UserWarning: Exporting a model to ONNX with a batch_size other than 1, with a variable length with GRU can cause an error when running the ONNX model with a different batch size. Make sure to save the model with a batch size of 1, or define the initial states (h0/c0) as inputs of the model. \n",
      "  warnings.warn(\n"
     ]
    }
   ],
   "source": [
    "import torch.onnx\n",
    "\n",
    "# Export the model\n",
    "torch.onnx.export(model,               # model being run\n",
    "                  torch.randn(1, 8, 288),                         # model input (or a tuple for multiple inputs)\n",
    "                  \"model.onnx\",   # where to save the model (can be a file or file-like object)\n",
    "                  export_params=True,        # store the trained parameter weights inside the model file\n",
    "                  opset_version=10,          # the ONNX version to export the model to\n",
    "                  do_constant_folding=True,  # whether to execute constant folding for optimization\n",
    "                  input_names = ['input'],   # the model's input names\n",
    "                  output_names = ['output'], # the model's output names\n",
    "                  dynamic_axes={'input' : {0 : 'batch_size'},    # variable lenght axes\n",
    "                                'output' : {0 : 'batch_size'}})\n"
   ]
  },
  {
   "cell_type": "code",
   "execution_count": 24,
   "metadata": {},
   "outputs": [
    {
     "name": "stdout",
     "output_type": "stream",
     "text": [
      "Test loss: 18.166906356811523\n"
     ]
    }
   ],
   "source": [
    "\n",
    "with torch.no_grad():\n",
    "    # reshape the data\n",
    "    X_test = X_test.permute(0, 2, 1)\n",
    "    test_output = model(X_test.to(device))\n",
    "    \n",
    "    test_loss = criterion(test_output, y_test.to(device))\n",
    "    \n",
    "print(f'Test loss: {test_loss.item()}')\n"
   ]
  },
  {
   "cell_type": "code",
   "execution_count": null,
   "metadata": {},
   "outputs": [],
   "source": [
    "X_test.shape"
   ]
  },
  {
   "cell_type": "code",
   "execution_count": 25,
   "metadata": {},
   "outputs": [
    {
     "name": "stdout",
     "output_type": "stream",
     "text": [
      "{'num_layers': 2, 'dropout': 0.20170039541085966, 'hidden_size': 75, 'lr': 0.000530766845802589}\n"
     ]
    }
   ],
   "source": [
    "print(best_trial.params)"
   ]
  },
  {
   "cell_type": "code",
   "execution_count": 26,
   "metadata": {},
   "outputs": [
    {
     "name": "stdout",
     "output_type": "stream",
     "text": [
      "Predicted: 17.389188766479492, True: 16.0\n",
      "Predicted: 16.847089767456055, True: 17.0\n",
      "Predicted: 14.716144561767578, True: 13.0\n",
      "Predicted: 9.676603317260742, True: 20.0\n",
      "Predicted: 5.108694553375244, True: 1.0\n",
      "Predicted: 1.2729400396347046, True: 0.0\n",
      "Predicted: 2.064178705215454, True: 0.0\n",
      "Predicted: 13.422876358032227, True: 11.0\n",
      "Predicted: 19.13338279724121, True: 21.0\n",
      "Predicted: 18.1561222076416, True: 21.0\n",
      "Predicted: 17.216108322143555, True: 15.0\n",
      "Predicted: 0.0, True: 20.0\n",
      "Predicted: 17.671350479125977, True: 16.0\n",
      "Predicted: 17.502737045288086, True: 18.0\n",
      "Predicted: 17.83201789855957, True: 20.0\n",
      "Predicted: 16.286212921142578, True: 21.0\n",
      "Predicted: 15.957582473754883, True: 14.0\n",
      "Predicted: 15.924637794494629, True: 15.0\n",
      "Predicted: 12.195647239685059, True: 9.0\n",
      "Predicted: 8.673115730285645, True: 16.0\n",
      "Predicted: 4.0374979972839355, True: 4.0\n",
      "Predicted: 1.1551772356033325, True: 0.0\n",
      "Predicted: 4.162004470825195, True: 0.0\n",
      "Predicted: 0.0, True: 14.0\n",
      "Predicted: 0.7764456868171692, True: 6.0\n",
      "Predicted: 7.243204593658447, True: 2.0\n",
      "Predicted: 16.87112045288086, True: 11.0\n",
      "Predicted: 17.823802947998047, True: 14.0\n",
      "Predicted: 17.478679656982422, True: 23.0\n",
      "Predicted: 17.369861602783203, True: 19.0\n",
      "Predicted: 15.996456146240234, True: 9.0\n",
      "Predicted: 16.36126136779785, True: 14.0\n",
      "Predicted: 16.174999237060547, True: 21.0\n",
      "Predicted: 11.79088020324707, True: 9.0\n",
      "Predicted: 7.212145805358887, True: 9.0\n",
      "Predicted: 0.0, True: 3.0\n",
      "Predicted: 6.045250415802002, True: 0.0\n",
      "Predicted: 11.015302658081055, True: 9.0\n",
      "Predicted: 13.999855995178223, True: 9.0\n",
      "Predicted: 15.733861923217773, True: 18.0\n",
      "Predicted: 16.12255859375, True: 17.0\n",
      "Predicted: 16.04999351501465, True: 17.0\n",
      "Predicted: 15.779891014099121, True: 14.0\n",
      "Predicted: 15.18895149230957, True: 21.0\n",
      "Predicted: 14.592216491699219, True: 23.0\n",
      "Predicted: 14.694265365600586, True: 15.0\n",
      "Predicted: 14.594183921813965, True: 21.0\n",
      "Predicted: 0.0, True: 16.0\n",
      "Predicted: 15.978963851928711, True: 11.0\n",
      "Predicted: 15.518840789794922, True: 15.0\n",
      "Predicted: 16.03278160095215, True: 11.0\n",
      "Predicted: 12.008064270019531, True: 16.0\n",
      "Predicted: 6.891865253448486, True: 3.0\n",
      "Predicted: 3.278266191482544, True: 2.0\n",
      "Predicted: 0.0, True: 0.0\n",
      "Predicted: 4.732783317565918, True: 5.0\n",
      "Predicted: 15.77641773223877, True: 16.0\n",
      "Predicted: 18.759353637695312, True: 16.0\n",
      "Predicted: 15.42116641998291, True: 16.0\n",
      "Predicted: 0.0, True: 26.0\n",
      "Predicted: 1.9297558069229126, True: 2.0\n",
      "Predicted: 2.0106592178344727, True: 0.0\n",
      "Predicted: 13.020608901977539, True: 3.0\n",
      "Predicted: 19.49321937561035, True: 19.0\n",
      "Predicted: 18.314773559570312, True: 14.0\n",
      "Predicted: 18.094106674194336, True: 20.0\n",
      "Predicted: 16.626205444335938, True: 12.0\n",
      "Predicted: 16.1103458404541, True: 2.0\n",
      "Predicted: 17.778987884521484, True: 23.0\n",
      "Predicted: 15.255274772644043, True: 14.0\n",
      "Predicted: 10.692877769470215, True: 10.0\n",
      "Predicted: 0.0, True: 1.0\n",
      "Predicted: 11.383179664611816, True: 14.0\n",
      "Predicted: 9.265560150146484, True: 7.0\n",
      "Predicted: 7.35678768157959, True: 6.0\n",
      "Predicted: 4.362598419189453, True: 8.0\n",
      "Predicted: 2.6622581481933594, True: 2.0\n",
      "Predicted: 3.8507730960845947, True: 1.0\n",
      "Predicted: 6.403784275054932, True: 13.0\n",
      "Predicted: 10.596888542175293, True: 8.0\n",
      "Predicted: 13.917325973510742, True: 15.0\n",
      "Predicted: 16.132999420166016, True: 22.0\n",
      "Predicted: 16.358501434326172, True: 15.0\n",
      "Predicted: 0.0, True: 20.0\n",
      "Predicted: 15.727166175842285, True: 22.0\n",
      "Predicted: 15.632999420166016, True: 22.0\n",
      "Predicted: 14.67634391784668, True: 2.0\n",
      "Predicted: 13.53681755065918, True: 10.0\n",
      "Predicted: 13.478310585021973, True: 11.0\n",
      "Predicted: 13.912991523742676, True: 12.0\n",
      "Predicted: 12.160051345825195, True: 10.0\n",
      "Predicted: 9.733617782592773, True: 10.0\n",
      "Predicted: 6.0225749015808105, True: 8.0\n",
      "Predicted: 3.504361152648926, True: 3.0\n",
      "Predicted: 4.391781806945801, True: 9.0\n",
      "Predicted: 0.0, True: 9.0\n",
      "Predicted: 12.927607536315918, True: 18.0\n",
      "Predicted: 9.437933921813965, True: 5.0\n",
      "Predicted: 5.127511501312256, True: 6.0\n",
      "Predicted: 2.1059982776641846, True: 5.0\n",
      "Predicted: 7.9349822998046875, True: 9.0\n",
      "Predicted: 14.140734672546387, True: 10.0\n",
      "Predicted: 14.822425842285156, True: 15.0\n",
      "Predicted: 16.34912109375, True: 26.0\n",
      "Predicted: 17.31906509399414, True: 16.0\n",
      "Predicted: 17.077880859375, True: 11.0\n",
      "Predicted: 17.2717342376709, True: 14.0\n",
      "Predicted: 0.0, True: 22.0\n",
      "Predicted: 14.6414155960083, True: 15.0\n",
      "Predicted: 12.045153617858887, True: 15.0\n",
      "Predicted: 10.213162422180176, True: 9.0\n",
      "Predicted: 6.569432735443115, True: 1.0\n",
      "Predicted: 4.268999099731445, True: 4.0\n",
      "Predicted: 5.964480400085449, True: 9.0\n",
      "Predicted: 7.448467254638672, True: 10.0\n",
      "Predicted: 7.131180286407471, True: 2.0\n",
      "Predicted: 5.682365894317627, True: 2.0\n",
      "Predicted: 4.628662586212158, True: 0.0\n",
      "Predicted: 2.399207830429077, True: 1.0\n",
      "Predicted: 0.0, True: 1.0\n"
     ]
    }
   ],
   "source": [
    "\n",
    "for i in range(10):\n",
    "    for j in range(0, len(y_test[i]), 24):\n",
    "        print(f'Predicted: {test_output[i][j].item()}, True: {y_test[i][j].item()}')\n",
    "\n",
    "    "
   ]
  },
  {
   "cell_type": "code",
   "execution_count": 29,
   "metadata": {},
   "outputs": [],
   "source": [
    "arr = y_test.detach().cpu().numpy()\n",
    "smoothed_arr = np.empty_like(arr)\n",
    "\n",
    "smoothed_arr = np.zeros_like(arr)\n",
    "alpha = 0.8\n"
   ]
  },
  {
   "cell_type": "code",
   "execution_count": 30,
   "metadata": {},
   "outputs": [
    {
     "name": "stdout",
     "output_type": "stream",
     "text": [
      "(1407, 288)\n"
     ]
    }
   ],
   "source": [
    "print(arr.shape)"
   ]
  },
  {
   "cell_type": "code",
   "execution_count": 31,
   "metadata": {},
   "outputs": [],
   "source": [
    "\n",
    "for i in range(1):\n",
    "    moving_avg = arr[i, 0]\n",
    "    for j in range(arr.shape[1]):\n",
    "        moving_avg = moving_avg * alpha + arr[i, j] * (1 - alpha)\n",
    "        smoothed_arr[i, j] = moving_avg\n"
   ]
  },
  {
   "cell_type": "code",
   "execution_count": null,
   "metadata": {},
   "outputs": [],
   "source": [
    "print(smoothed_arr)"
   ]
  },
  {
   "cell_type": "code",
   "execution_count": null,
   "metadata": {},
   "outputs": [],
   "source": [
    "smoothed_arr[0]"
   ]
  },
  {
   "cell_type": "code",
   "execution_count": null,
   "metadata": {},
   "outputs": [],
   "source": [
    "print(smoothed_arr.shape)"
   ]
  },
  {
   "cell_type": "code",
   "execution_count": 32,
   "metadata": {},
   "outputs": [
    {
     "data": {
      "image/png": "[encoded data removed]",
      "text/plain": [
       "<Figure size 640x480 with 1 Axes>"
      ]
     },
     "metadata": {},
     "output_type": "display_data"
    }
   ],
   "source": [
    "# plot the results\n",
    "import matplotlib.pyplot as plt\n",
    "plt.plot(test_output[0].cpu().numpy(), label='Predicted')\n",
    "plt.plot(y_test[0].cpu().numpy(), label='True')\n",
    "plt.plot(smoothed_arr[0], label='Smooth True')\n",
    "plt.legend()\n",
    "plt.show()\n"
   ]
  }
 ],
 "metadata": {
  "kernelspec": {
   "display_name": "venv",
   "language": "python",
   "name": "python3"
  },
  "language_info": {
   "codemirror_mode": {
    "name": "ipython",
    "version": 3
   },
   "file_extension": ".py",
   "mimetype": "text/x-python",
   "name": "python",
   "nbconvert_exporter": "python",
   "pygments_lexer": "ipython3",
   "version": "3.10.12"
  }
 },
 "nbformat": 4,
 "nbformat_minor": 2
}
