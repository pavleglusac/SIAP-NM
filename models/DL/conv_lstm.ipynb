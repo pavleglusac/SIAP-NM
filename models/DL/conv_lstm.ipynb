{
 "cells": [
  {
   "cell_type": "code",
   "execution_count": 169,
   "metadata": {},
   "outputs": [],
   "source": [
    "import torch\n",
    "import optuna\n",
    "import numpy as np\n",
    "import torch.nn as nn\n",
    "import torch.optim as optim\n",
    "import torch.nn.functional as F\n",
    "import pandas as pd\n",
    "from torch.utils.data import DataLoader, Dataset\n",
    "from sklearn.model_selection import train_test_split\n",
    "from sklearn.preprocessing import StandardScaler\n",
    "import pathlib"
   ]
  },
  {
   "cell_type": "code",
   "execution_count": 170,
   "metadata": {},
   "outputs": [],
   "source": [
    "def df_to_X_y_vector(df, lags, future):\n",
    "    X = []\n",
    "    y = []\n",
    "    for i in range(len(df) - lags - future):\n",
    "        x_window_rows = df.iloc[i:i + lags]\n",
    "        x_row = [list(x_window_rows.iloc[j]) for j in range(lags)]\n",
    "        X.append(x_row)\n",
    "        y_window_rows = df.iloc[i + lags:i + lags + future]\n",
    "        y_row = [y_window_rows.iloc[j]['Detections'] for j in range(future)]\n",
    "        y.append(y_row)\n",
    "    return np.array(X), np.array(y)"
   ]
  },
  {
   "cell_type": "code",
   "execution_count": 171,
   "metadata": {},
   "outputs": [],
   "source": [
    "def get_df(path):\n",
    "    df = pd.read_csv(path)\n",
    "    df = df.drop(['WeatherDescription', 'Unnamed: 0', 'index'], axis=1)\n",
    "    df = pd.get_dummies(df, columns=['WeatherMain'], prefix='WeatherMain')\n",
    "    df['Timestamp'] = pd.to_datetime(df['Timestamp'])\n",
    "    df['Year'] = df['Timestamp'].dt.year\n",
    "    df['Month'] = df['Timestamp'].dt.month\n",
    "    df['Day'] = df['Timestamp'].dt.day\n",
    "    df['Hour'] = df['Timestamp'].dt.hour\n",
    "    df = df.drop(['Timestamp', 'WeatherMain_Snow', 'Year'], axis=1)\n",
    "    return df_to_X_y_vector(df, 288, 288)"
   ]
  },
  {
   "cell_type": "code",
   "execution_count": 172,
   "metadata": {},
   "outputs": [],
   "source": [
    "# path = '../../train_belgrade.csv'\n",
    "# X, y = get_df(path)\n",
    "# X = np.reshape(X, (X.shape[0], X.shape[1], X.shape[2]))\n",
    "# X_train_raw, X_temp, y_train_raw, y_temp = train_test_split(X, y, test_size=0.2, random_state=42)\n",
    "# # X_val_raw, X_test_raw, y_val_raw, y_test_raw = train_test_split(X_temp, y_temp, test_size=0.5, random_state=42)"
   ]
  },
  {
   "cell_type": "code",
   "execution_count": 173,
   "metadata": {},
   "outputs": [],
   "source": [
    "# # save all data to csv files and save the shape of the data\n",
    "# pathlib.Path('data').mkdir(parents=True, exist_ok=True)\n",
    "# np.savetxt('data/X_train_raw.csv', X_train_raw.reshape(X_train_raw.shape[0], -1), delimiter=',')\n",
    "# np.savetxt('data/y_train_raw.csv', y_train_raw, delimiter=',')\n",
    "# np.savetxt('data/X_val_raw.csv', X_val_raw.reshape(X_val_raw.shape[0], -1), delimiter=',')\n",
    "# np.savetxt('data/y_val_raw.csv', y_val_raw, delimiter=',')\n",
    "# np.savetxt('data/X_test_raw.csv', X_test_raw.reshape(X_test_raw.shape[0], -1), delimiter=',')\n",
    "# np.savetxt('data/y_test_raw.csv', y_test_raw, delimiter=',')\n"
   ]
  },
  {
   "cell_type": "code",
   "execution_count": 174,
   "metadata": {},
   "outputs": [
    {
     "name": "stdout",
     "output_type": "stream",
     "text": [
      "(11248, 288, 8) (11248, 288) (1406, 288, 8) (1406, 288) (1407, 288, 8) (1407, 288)\n"
     ]
    }
   ],
   "source": [
    "# load data from csv files\n",
    "X_train_raw = np.loadtxt('data/X_train_raw.csv', delimiter=',').reshape(-1, 288, 8)\n",
    "y_train_raw = np.loadtxt('data/y_train_raw.csv', delimiter=',')\n",
    "X_val_raw = np.loadtxt('data/X_val_raw.csv', delimiter=',').reshape(-1, 288, 8)\n",
    "y_val_raw = np.loadtxt('data/y_val_raw.csv', delimiter=',')\n",
    "X_test_raw = np.loadtxt('data/X_test_raw.csv', delimiter=',').reshape(-1, 288, 8)\n",
    "y_test_raw = np.loadtxt('data/y_test_raw.csv', delimiter=',')\n",
    "print(X_train_raw.shape, y_train_raw.shape, X_val_raw.shape, y_val_raw.shape, X_test_raw.shape, y_test_raw.shape)"
   ]
  },
  {
   "cell_type": "code",
   "execution_count": 175,
   "metadata": {},
   "outputs": [],
   "source": [
    "device = torch.device('cuda' if torch.cuda.is_available() else 'cpu')\n",
    "device = 'cpu'"
   ]
  },
  {
   "cell_type": "code",
   "execution_count": 176,
   "metadata": {},
   "outputs": [
    {
     "name": "stdout",
     "output_type": "stream",
     "text": [
      "torch.Size([11248, 8, 288]) torch.Size([11248, 288])\n"
     ]
    }
   ],
   "source": [
    "X_train = torch.tensor(X_train_raw, dtype=torch.float32).to(device)\n",
    "y_train = torch.tensor(y_train_raw, dtype=torch.float32).to(device)\n",
    "X_val = torch.tensor(X_val_raw, dtype=torch.float32).to(device)\n",
    "y_val = torch.tensor(y_val_raw, dtype=torch.float32).to(device)\n",
    "\n",
    "\n",
    "X_train = X_train.permute(0, 2, 1)\n",
    "X_val = X_val.permute(0, 2, 1)\n",
    "\n",
    "\n",
    "print(X_train.shape, y_train.shape)"
   ]
  },
  {
   "cell_type": "code",
   "execution_count": 177,
   "metadata": {},
   "outputs": [],
   "source": [
    "class CustomLSTM(nn.Module):\n",
    "    def __init__(self, input_dim, hidden_size, **kwargs):\n",
    "        super().__init__()\n",
    "        self.last_layer = kwargs.pop('last_layer', False)\n",
    "        self.lstm = nn.GRU(input_dim, hidden_size, **kwargs)\n",
    "\n",
    "    def forward(self, x):\n",
    "        output, _ = self.lstm(x)\n",
    "        if self.last_layer:\n",
    "            return output[:, -1, :]\n",
    "        return output\n"
   ]
  },
  {
   "cell_type": "code",
   "execution_count": 178,
   "metadata": {},
   "outputs": [],
   "source": [
    "class ForecastModel(nn.Module):\n",
    "    def __init__(self, trial, input_dim, output_dim):\n",
    "        super().__init__()\n",
    "        self.num_layers = trial.suggest_int('num_layers', 1, 3)\n",
    "        self.dropout = trial.suggest_float('dropout', 0.1, 0.5)\n",
    "        self.hidden_size = trial.suggest_int('hidden_size', 16, 128)\n",
    "        self.input_dim = input_dim\n",
    "        self.output_dim = output_dim\n",
    "        self.rnn_layers = []\n",
    "        self.conv = nn.Conv1d(in_channels=8, out_channels=8, kernel_size=24, stride=6)\n",
    "        # calculate the input size for the first layer\n",
    "        first_input_dim = (288 - 24) // 6 + 1\n",
    "        for i in range(self.num_layers):\n",
    "            input_size = self.hidden_size if i != 0 else first_input_dim\n",
    "            self.rnn_layers.append(CustomLSTM(input_size, self.hidden_size, batch_first=True))\n",
    "            self.rnn_layers.append(nn.Dropout(self.dropout))\n",
    "        self.rnn_layers = nn.ModuleList(self.rnn_layers)\n",
    "        self.flattned_size = self.hidden_size * input_dim\n",
    "        self.flatten = nn.Flatten()\n",
    "        self.fc = nn.Linear(self.flattned_size, self.output_dim)\n",
    "        \n",
    "\n",
    "    def forward(self, x):\n",
    "        x = self.conv(x)\n",
    "        for layer in self.rnn_layers:\n",
    "            x = layer(x)\n",
    "        x = self.flatten(x)\n",
    "        x = self.fc(x)\n",
    "        return x"
   ]
  },
  {
   "cell_type": "code",
   "execution_count": 179,
   "metadata": {},
   "outputs": [],
   "source": [
    "\n",
    "\n",
    "def create_model(trial, input_size, output_size):\n",
    "    # Hyperparameters to be tuned\n",
    "    hidden_size = trial.suggest_int('hidden_size', 50, 200)\n",
    "    num_layers = trial.suggest_int('num_layers', 1, 3)\n",
    "    dropout = trial.suggest_float('dropout', 0.1, 0.5)\n",
    "    layers = []\n",
    "\n",
    "    # in_channels = 288\n",
    "    # out_channels = 8\n",
    "    # kernel_size = 12\n",
    "    layers.append(nn.Conv1d(in_channels=8, out_channels=8, kernel_size=24))\n",
    "    layers.append(nn.ReLU())\n",
    "    # layers.append(nn.MaxPool1d(kernel_size=2))\n",
    "    # layers.append(nn.Flatten())\n",
    "\n",
    "    input_dim = 288 - 24 + 1\n",
    "    for i in range(num_layers):\n",
    "        input_dim = input_dim if i == 0 else hidden_size\n",
    "        layers.append(CustomLSTM(input_dim, hidden_size, batch_first=True, dropout=dropout if i+1 < num_layers else 0, last_layer=i+1 == num_layers))\n",
    "    layers.append(nn.Linear(hidden_size, output_size))\n",
    "    \n",
    "    model = nn.Sequential(*layers).to(device)\n",
    "    return model\n"
   ]
  },
  {
   "cell_type": "code",
   "execution_count": 180,
   "metadata": {},
   "outputs": [],
   "source": [
    "trial_data = {}"
   ]
  },
  {
   "cell_type": "code",
   "execution_count": 181,
   "metadata": {},
   "outputs": [],
   "source": [
    "def objective(trial):\n",
    "    # Assuming data preparation steps are already done, and you have X_train, y_train, X_val, y_val as tensors\n",
    "    # print('Inputs:', X_train.shape, y_train.shape)\n",
    "    \n",
    "    model = ForecastModel(trial, input_dim=8, output_dim=288).to(device)\n",
    "\n",
    "    \n",
    "    criterion = nn.MSELoss()\n",
    "    optimizer = optim.Adam(model.parameters(), lr=trial.suggest_float('lr', 1e-4, 1e-2, log=True))\n",
    "    \n",
    "    # Example: Train the model\n",
    "    epochs = 10\n",
    "    mini_batch_size = 32\n",
    "    train_losses = []\n",
    "    val_losses = []\n",
    "    for epoch in range(epochs):\n",
    "        model.train()\n",
    "        train_loss = 0\n",
    "        for i in range(0, len(X_train), mini_batch_size):\n",
    "            optimizer.zero_grad()\n",
    "            X_batch = X_train[i:i+mini_batch_size]\n",
    "            y_batch = y_train[i:i+mini_batch_size]\n",
    "            output = model(X_batch)\n",
    "            loss = criterion(output, y_batch)\n",
    "            loss.backward()\n",
    "            optimizer.step()\n",
    "            # loss is a vector of size mini_batch_size, we need to sum it up\n",
    "            # print(loss.item())\n",
    "            train_loss += loss.item()\n",
    "        train_losses.append(train_loss / len(range(0, len(X_train), mini_batch_size)))\n",
    "        model.eval()\n",
    "        with torch.no_grad():\n",
    "            val_output = model(X_val)\n",
    "            val_loss = criterion(val_output, y_val)\n",
    "            val_losses.append(val_loss.item())\n",
    "    \n",
    "    trial_data[trial.number] = {\n",
    "        'train_losses': train_losses,\n",
    "        'val_losses': val_losses\n",
    "    }\n",
    "    \n",
    "    print(f'Epoch {epoch+1}/{epochs}, Loss: {val_loss.item()}')\n",
    "    # save model\n",
    "    output_path = pathlib.Path('./lstm_models')\n",
    "    output_path.mkdir(exist_ok=True)\n",
    "    torch.save(model.state_dict(), output_path/f'model_{trial.number}.pth')\n",
    "\n",
    "            \n",
    "    return val_loss.item()\n"
   ]
  },
  {
   "cell_type": "code",
   "execution_count": 182,
   "metadata": {},
   "outputs": [
    {
     "name": "stderr",
     "output_type": "stream",
     "text": [
      "[I 2024-04-04 01:50:22,609] A new study created in memory with name: no-name-1fd80bb2-26ee-4327-bb88-d191e4c437e1\n",
      "[I 2024-04-04 01:50:56,545] Trial 0 finished with value: 15.87326717376709 and parameters: {'num_layers': 3, 'dropout': 0.10766421542116072, 'hidden_size': 96, 'lr': 0.0007667553700291956}. Best is trial 0 with value: 15.87326717376709.\n"
     ]
    },
    {
     "name": "stdout",
     "output_type": "stream",
     "text": [
      "Epoch 10/10, Loss: 15.87326717376709\n"
     ]
    },
    {
     "name": "stderr",
     "output_type": "stream",
     "text": [
      "[I 2024-04-04 01:51:19,002] Trial 1 finished with value: 24.962934494018555 and parameters: {'num_layers': 2, 'dropout': 0.3552523363955459, 'hidden_size': 79, 'lr': 0.00010214328717690952}. Best is trial 0 with value: 15.87326717376709.\n"
     ]
    },
    {
     "name": "stdout",
     "output_type": "stream",
     "text": [
      "Epoch 10/10, Loss: 24.962934494018555\n"
     ]
    },
    {
     "name": "stderr",
     "output_type": "stream",
     "text": [
      "[I 2024-04-04 01:51:53,434] Trial 2 finished with value: 20.40757942199707 and parameters: {'num_layers': 3, 'dropout': 0.21248243486001878, 'hidden_size': 94, 'lr': 0.00015731396869430873}. Best is trial 0 with value: 15.87326717376709.\n"
     ]
    },
    {
     "name": "stdout",
     "output_type": "stream",
     "text": [
      "Epoch 10/10, Loss: 20.40757942199707\n"
     ]
    },
    {
     "name": "stderr",
     "output_type": "stream",
     "text": [
      "[I 2024-04-04 01:52:08,625] Trial 3 finished with value: 20.824316024780273 and parameters: {'num_layers': 1, 'dropout': 0.4525615025726242, 'hidden_size': 98, 'lr': 0.002607399286287793}. Best is trial 0 with value: 15.87326717376709.\n"
     ]
    },
    {
     "name": "stdout",
     "output_type": "stream",
     "text": [
      "Epoch 10/10, Loss: 20.824316024780273\n"
     ]
    },
    {
     "name": "stderr",
     "output_type": "stream",
     "text": [
      "[I 2024-04-04 01:52:38,017] Trial 4 finished with value: 21.448104858398438 and parameters: {'num_layers': 2, 'dropout': 0.35103173840463, 'hidden_size': 116, 'lr': 0.004824927289817505}. Best is trial 0 with value: 15.87326717376709.\n"
     ]
    },
    {
     "name": "stdout",
     "output_type": "stream",
     "text": [
      "Epoch 10/10, Loss: 21.448104858398438\n"
     ]
    },
    {
     "name": "stderr",
     "output_type": "stream",
     "text": [
      "[I 2024-04-04 01:53:01,904] Trial 5 finished with value: 21.773757934570312 and parameters: {'num_layers': 2, 'dropout': 0.3850972364108597, 'hidden_size': 89, 'lr': 0.0001864734241491518}. Best is trial 0 with value: 15.87326717376709.\n"
     ]
    },
    {
     "name": "stdout",
     "output_type": "stream",
     "text": [
      "Epoch 10/10, Loss: 21.773757934570312\n"
     ]
    },
    {
     "name": "stderr",
     "output_type": "stream",
     "text": [
      "[I 2024-04-04 01:53:27,980] Trial 6 finished with value: 17.82254981994629 and parameters: {'num_layers': 2, 'dropout': 0.31590993571068215, 'hidden_size': 100, 'lr': 0.002278883567020693}. Best is trial 0 with value: 15.87326717376709.\n"
     ]
    },
    {
     "name": "stdout",
     "output_type": "stream",
     "text": [
      "Epoch 10/10, Loss: 17.82254981994629\n"
     ]
    },
    {
     "name": "stderr",
     "output_type": "stream",
     "text": [
      "[I 2024-04-04 01:53:50,033] Trial 7 finished with value: 17.206832885742188 and parameters: {'num_layers': 2, 'dropout': 0.1879230808135461, 'hidden_size': 77, 'lr': 0.0006705423810672645}. Best is trial 0 with value: 15.87326717376709.\n"
     ]
    },
    {
     "name": "stdout",
     "output_type": "stream",
     "text": [
      "Epoch 10/10, Loss: 17.206832885742188\n"
     ]
    },
    {
     "name": "stderr",
     "output_type": "stream",
     "text": [
      "[I 2024-04-04 01:54:15,615] Trial 8 finished with value: 23.393428802490234 and parameters: {'num_layers': 2, 'dropout': 0.12952322651019862, 'hidden_size': 93, 'lr': 0.007948249126189825}. Best is trial 0 with value: 15.87326717376709.\n"
     ]
    },
    {
     "name": "stdout",
     "output_type": "stream",
     "text": [
      "Epoch 10/10, Loss: 23.393428802490234\n"
     ]
    },
    {
     "name": "stderr",
     "output_type": "stream",
     "text": [
      "[I 2024-04-04 01:54:38,356] Trial 9 finished with value: 18.906030654907227 and parameters: {'num_layers': 2, 'dropout': 0.1931259687856176, 'hidden_size': 83, 'lr': 0.0003261002142439217}. Best is trial 0 with value: 15.87326717376709.\n"
     ]
    },
    {
     "name": "stdout",
     "output_type": "stream",
     "text": [
      "Epoch 10/10, Loss: 18.906030654907227\n",
      "Best trial score: 15.87326717376709\n",
      "num_layers: 3\n",
      "dropout: 0.10766421542116072\n",
      "hidden_size: 96\n",
      "lr: 0.0007667553700291956\n"
     ]
    }
   ],
   "source": [
    "study = optuna.create_study(direction='minimize')\n",
    "study.optimize(objective, n_trials=10)\n",
    "\n",
    "best_trial = study.best_trial\n",
    "print(f'Best trial score: {best_trial.value}')\n",
    "for key, value in best_trial.params.items():\n",
    "    print(f'{key}: {value}')\n"
   ]
  },
  {
   "cell_type": "code",
   "execution_count": 183,
   "metadata": {},
   "outputs": [
    {
     "data": {
      "image/png": "[encoded data removed]",
      "text/plain": [
       "<Figure size 640x480 with 1 Axes>"
      ]
     },
     "metadata": {},
     "output_type": "display_data"
    }
   ],
   "source": [
    "import matplotlib.pyplot as plt\n",
    "plt.plot(trial_data[best_trial.number]['train_losses'], label='train')\n",
    "plt.plot(trial_data[best_trial.number]['val_losses'], label='val')\n",
    "plt.legend()\n",
    "plt.show()"
   ]
  },
  {
   "cell_type": "code",
   "execution_count": 184,
   "metadata": {},
   "outputs": [],
   "source": [
    "# evaluate on test set\n",
    "X_test = torch.tensor(X_test_raw, dtype=torch.float32)\n",
    "X_test = X_test.permute(0, 1, 2)\n",
    "y_test = torch.tensor(y_test_raw, dtype=torch.float32)\n",
    "\n",
    "criterion = nn.MSELoss()\n"
   ]
  },
  {
   "cell_type": "code",
   "execution_count": 185,
   "metadata": {},
   "outputs": [],
   "source": [
    "# best_trial = {'num_layers': 2, 'dropout': 0.3907331240770967, 'hidden_size': 127, 'lr': 0.0004603846594084274}"
   ]
  },
  {
   "cell_type": "code",
   "execution_count": 189,
   "metadata": {},
   "outputs": [
    {
     "data": {
      "text/plain": [
       "0"
      ]
     },
     "execution_count": 189,
     "metadata": {},
     "output_type": "execute_result"
    }
   ],
   "source": [
    "best_trial.number"
   ]
  },
  {
   "cell_type": "code",
   "execution_count": 186,
   "metadata": {},
   "outputs": [
    {
     "data": {
      "text/plain": [
       "True"
      ]
     },
     "execution_count": 186,
     "metadata": {},
     "output_type": "execute_result"
    }
   ],
   "source": [
    "0.0004 == 4e-4"
   ]
  },
  {
   "cell_type": "code",
   "execution_count": 192,
   "metadata": {},
   "outputs": [
    {
     "data": {
      "text/plain": [
       "<All keys matched successfully>"
      ]
     },
     "execution_count": 192,
     "metadata": {},
     "output_type": "execute_result"
    }
   ],
   "source": [
    "\n",
    "model = ForecastModel(best_trial, input_dim=8, output_dim=288).to(device)\n",
    "model.eval()\n",
    "model.load_state_dict(torch.load(f'./lstm_models/model_0.pth'))\n"
   ]
  },
  {
   "cell_type": "code",
   "execution_count": 193,
   "metadata": {},
   "outputs": [
    {
     "data": {
      "text/plain": [
       "0"
      ]
     },
     "execution_count": 193,
     "metadata": {},
     "output_type": "execute_result"
    }
   ],
   "source": [
    "best_trial.number"
   ]
  },
  {
   "cell_type": "code",
   "execution_count": null,
   "metadata": {},
   "outputs": [
    {
     "name": "stderr",
     "output_type": "stream",
     "text": [
      "/mnt/ACA058A9A0587C30/Faks/Master/SIAP-NM/venv/lib/python3.10/site-packages/torch/onnx/symbolic_opset9.py:4662: UserWarning: Exporting a model to ONNX with a batch_size other than 1, with a variable length with GRU can cause an error when running the ONNX model with a different batch size. Make sure to save the model with a batch size of 1, or define the initial states (h0/c0) as inputs of the model. \n",
      "  warnings.warn(\n"
     ]
    }
   ],
   "source": [
    "import torch.onnx\n",
    "\n",
    "# Export the model\n",
    "torch.onnx.export(model,               # model being run\n",
    "                  torch.randn(1, 8, 288),                         # model input (or a tuple for multiple inputs)\n",
    "                  \"model.onnx\",   # where to save the model (can be a file or file-like object)\n",
    "                  export_params=True,        # store the trained parameter weights inside the model file\n",
    "                  opset_version=10,          # the ONNX version to export the model to\n",
    "                  do_constant_folding=True,  # whether to execute constant folding for optimization\n",
    "                  input_names = ['input'],   # the model's input names\n",
    "                  output_names = ['output'], # the model's output names\n",
    "                  dynamic_axes={'input' : {0 : 'batch_size'},    # variable lenght axes\n",
    "                                'output' : {0 : 'batch_size'}})\n"
   ]
  },
  {
   "cell_type": "code",
   "execution_count": 194,
   "metadata": {},
   "outputs": [
    {
     "name": "stdout",
     "output_type": "stream",
     "text": [
      "Test loss: 16.031246185302734\n"
     ]
    }
   ],
   "source": [
    "\n",
    "with torch.no_grad():\n",
    "    # reshape the data\n",
    "    X_test = X_test.permute(0, 2, 1)\n",
    "    test_output = model(X_test.to(device))\n",
    "    \n",
    "    test_loss = criterion(test_output, y_test.to(device))\n",
    "    \n",
    "print(f'Test loss: {test_loss.item()}')\n"
   ]
  },
  {
   "cell_type": "code",
   "execution_count": 195,
   "metadata": {},
   "outputs": [
    {
     "data": {
      "text/plain": [
       "torch.Size([1407, 8, 288])"
      ]
     },
     "execution_count": 195,
     "metadata": {},
     "output_type": "execute_result"
    }
   ],
   "source": [
    "X_test.shape"
   ]
  },
  {
   "cell_type": "code",
   "execution_count": 196,
   "metadata": {},
   "outputs": [
    {
     "name": "stdout",
     "output_type": "stream",
     "text": [
      "{'num_layers': 3, 'dropout': 0.10766421542116072, 'hidden_size': 96, 'lr': 0.0007667553700291956}\n"
     ]
    }
   ],
   "source": [
    "print(best_trial.params)"
   ]
  },
  {
   "cell_type": "code",
   "execution_count": 197,
   "metadata": {},
   "outputs": [
    {
     "name": "stdout",
     "output_type": "stream",
     "text": [
      "Predicted: 17.810340881347656, True: 16.0\n",
      "Predicted: 17.110191345214844, True: 17.0\n",
      "Predicted: 14.925853729248047, True: 13.0\n",
      "Predicted: 10.089225769042969, True: 20.0\n",
      "Predicted: 5.856027603149414, True: 1.0\n",
      "Predicted: 2.270090341567993, True: 0.0\n",
      "Predicted: 2.0582404136657715, True: 0.0\n",
      "Predicted: 11.34364128112793, True: 11.0\n",
      "Predicted: 18.77197265625, True: 21.0\n",
      "Predicted: 19.053163528442383, True: 21.0\n",
      "Predicted: 17.50364875793457, True: 15.0\n",
      "Predicted: 17.550827026367188, True: 20.0\n",
      "Predicted: 18.534656524658203, True: 16.0\n",
      "Predicted: 18.880550384521484, True: 18.0\n",
      "Predicted: 20.138107299804688, True: 20.0\n",
      "Predicted: 17.924076080322266, True: 21.0\n",
      "Predicted: 16.299278259277344, True: 14.0\n",
      "Predicted: 15.949607849121094, True: 15.0\n",
      "Predicted: 13.426313400268555, True: 9.0\n",
      "Predicted: 10.643196105957031, True: 16.0\n",
      "Predicted: 6.588159561157227, True: 4.0\n",
      "Predicted: 3.603935480117798, True: 0.0\n",
      "Predicted: 3.9607248306274414, True: 0.0\n",
      "Predicted: 11.968009948730469, True: 14.0\n",
      "Predicted: 3.604191541671753, True: 6.0\n",
      "Predicted: 8.70017147064209, True: 2.0\n",
      "Predicted: 16.208826065063477, True: 11.0\n",
      "Predicted: 17.465848922729492, True: 14.0\n",
      "Predicted: 18.35712432861328, True: 23.0\n",
      "Predicted: 18.220766067504883, True: 19.0\n",
      "Predicted: 16.681163787841797, True: 9.0\n",
      "Predicted: 15.79916000366211, True: 14.0\n",
      "Predicted: 15.561714172363281, True: 21.0\n",
      "Predicted: 11.364409446716309, True: 9.0\n",
      "Predicted: 7.678989887237549, True: 9.0\n",
      "Predicted: 5.2717790603637695, True: 3.0\n",
      "Predicted: 9.046058654785156, True: 0.0\n",
      "Predicted: 12.633085250854492, True: 9.0\n",
      "Predicted: 15.622360229492188, True: 9.0\n",
      "Predicted: 15.736078262329102, True: 18.0\n",
      "Predicted: 15.869218826293945, True: 17.0\n",
      "Predicted: 15.562925338745117, True: 17.0\n",
      "Predicted: 14.333197593688965, True: 14.0\n",
      "Predicted: 15.855581283569336, True: 21.0\n",
      "Predicted: 16.638959884643555, True: 23.0\n",
      "Predicted: 16.83366584777832, True: 15.0\n",
      "Predicted: 15.506592750549316, True: 21.0\n",
      "Predicted: 15.04749584197998, True: 16.0\n",
      "Predicted: 15.878114700317383, True: 11.0\n",
      "Predicted: 15.53641128540039, True: 15.0\n",
      "Predicted: 15.393280029296875, True: 11.0\n",
      "Predicted: 11.139901161193848, True: 16.0\n",
      "Predicted: 6.991325855255127, True: 3.0\n",
      "Predicted: 2.3036396503448486, True: 2.0\n",
      "Predicted: -0.3735024929046631, True: 0.0\n",
      "Predicted: 4.794834136962891, True: 5.0\n",
      "Predicted: 16.219043731689453, True: 16.0\n",
      "Predicted: 19.399049758911133, True: 16.0\n",
      "Predicted: 16.695758819580078, True: 16.0\n",
      "Predicted: 16.390579223632812, True: 26.0\n",
      "Predicted: 2.191377639770508, True: 2.0\n",
      "Predicted: 1.7739959955215454, True: 0.0\n",
      "Predicted: 11.129623413085938, True: 3.0\n",
      "Predicted: 18.813077926635742, True: 19.0\n",
      "Predicted: 18.984111785888672, True: 14.0\n",
      "Predicted: 18.55828857421875, True: 20.0\n",
      "Predicted: 16.67125701904297, True: 12.0\n",
      "Predicted: 16.050771713256836, True: 2.0\n",
      "Predicted: 17.20787811279297, True: 23.0\n",
      "Predicted: 15.010313034057617, True: 14.0\n",
      "Predicted: 10.416975975036621, True: 10.0\n",
      "Predicted: 7.8050689697265625, True: 1.0\n",
      "Predicted: 13.109556198120117, True: 14.0\n",
      "Predicted: 10.323724746704102, True: 7.0\n",
      "Predicted: 7.829406261444092, True: 6.0\n",
      "Predicted: 4.649774074554443, True: 8.0\n",
      "Predicted: 2.5072381496429443, True: 2.0\n",
      "Predicted: 3.295896530151367, True: 1.0\n",
      "Predicted: 6.797216892242432, True: 13.0\n",
      "Predicted: 10.66409969329834, True: 8.0\n",
      "Predicted: 14.642693519592285, True: 15.0\n",
      "Predicted: 17.22406768798828, True: 22.0\n",
      "Predicted: 16.87303924560547, True: 15.0\n",
      "Predicted: 15.574249267578125, True: 20.0\n",
      "Predicted: 15.07363510131836, True: 22.0\n",
      "Predicted: 14.140762329101562, True: 22.0\n",
      "Predicted: 12.950008392333984, True: 2.0\n",
      "Predicted: 12.89047622680664, True: 10.0\n",
      "Predicted: 14.114230155944824, True: 11.0\n",
      "Predicted: 13.743104934692383, True: 12.0\n",
      "Predicted: 12.297371864318848, True: 10.0\n",
      "Predicted: 10.487817764282227, True: 10.0\n",
      "Predicted: 5.984588146209717, True: 8.0\n",
      "Predicted: 2.2434229850769043, True: 3.0\n",
      "Predicted: 3.2171459197998047, True: 9.0\n",
      "Predicted: 9.630390167236328, True: 9.0\n",
      "Predicted: 13.182851791381836, True: 18.0\n",
      "Predicted: 9.48892593383789, True: 5.0\n",
      "Predicted: 5.598326683044434, True: 6.0\n",
      "Predicted: 2.0745534896850586, True: 5.0\n",
      "Predicted: 7.301003932952881, True: 9.0\n",
      "Predicted: 14.52978515625, True: 10.0\n",
      "Predicted: 16.771678924560547, True: 15.0\n",
      "Predicted: 17.026548385620117, True: 26.0\n",
      "Predicted: 16.84764289855957, True: 16.0\n",
      "Predicted: 15.875727653503418, True: 11.0\n",
      "Predicted: 15.945953369140625, True: 14.0\n",
      "Predicted: 15.490815162658691, True: 22.0\n",
      "Predicted: 14.145505905151367, True: 15.0\n",
      "Predicted: 12.04526138305664, True: 15.0\n",
      "Predicted: 10.224597930908203, True: 9.0\n",
      "Predicted: 7.253959655761719, True: 1.0\n",
      "Predicted: 4.964496612548828, True: 4.0\n",
      "Predicted: 5.321343421936035, True: 9.0\n",
      "Predicted: 6.478423118591309, True: 10.0\n",
      "Predicted: 6.3112945556640625, True: 2.0\n",
      "Predicted: 5.2685136795043945, True: 2.0\n",
      "Predicted: 4.206781387329102, True: 0.0\n",
      "Predicted: 2.598147392272949, True: 1.0\n",
      "Predicted: 2.061913251876831, True: 1.0\n"
     ]
    }
   ],
   "source": [
    "\n",
    "for i in range(10):\n",
    "    for j in range(0, len(y_test[i]), 24):\n",
    "        print(f'Predicted: {test_output[i][j].item()}, True: {y_test[i][j].item()}')\n",
    "\n",
    "    "
   ]
  },
  {
   "cell_type": "code",
   "execution_count": 198,
   "metadata": {},
   "outputs": [],
   "source": [
    "arr = y_test.detach().cpu().numpy()\n",
    "smoothed_arr = np.empty_like(arr)\n",
    "\n",
    "smoothed_arr = np.zeros_like(arr)\n",
    "alpha = 0.8\n"
   ]
  },
  {
   "cell_type": "code",
   "execution_count": 199,
   "metadata": {},
   "outputs": [
    {
     "name": "stdout",
     "output_type": "stream",
     "text": [
      "(1407, 288)\n"
     ]
    }
   ],
   "source": [
    "print(arr.shape)"
   ]
  },
  {
   "cell_type": "code",
   "execution_count": 200,
   "metadata": {},
   "outputs": [],
   "source": [
    "\n",
    "for i in range(1):\n",
    "    moving_avg = arr[i, 0]\n",
    "    for j in range(arr.shape[1]):\n",
    "        moving_avg = moving_avg * alpha + arr[i, j] * (1 - alpha)\n",
    "        smoothed_arr[i, j] = moving_avg\n"
   ]
  },
  {
   "cell_type": "code",
   "execution_count": null,
   "metadata": {},
   "outputs": [
    {
     "name": "stdout",
     "output_type": "stream",
     "text": [
      "[[16.       16.4      16.12     ... 16.421358 16.337086 16.269669]\n",
      " [ 0.        0.        0.       ...  0.        0.        0.      ]\n",
      " [ 0.        0.        0.       ...  0.        0.        0.      ]\n",
      " ...\n",
      " [ 0.        0.        0.       ...  0.        0.        0.      ]\n",
      " [ 0.        0.        0.       ...  0.        0.        0.      ]\n",
      " [ 0.        0.        0.       ...  0.        0.        0.      ]]\n"
     ]
    }
   ],
   "source": [
    "print(smoothed_arr)"
   ]
  },
  {
   "cell_type": "code",
   "execution_count": null,
   "metadata": {},
   "outputs": [],
   "source": [
    "smoothed_arr[0]"
   ]
  },
  {
   "cell_type": "code",
   "execution_count": null,
   "metadata": {},
   "outputs": [
    {
     "name": "stdout",
     "output_type": "stream",
     "text": [
      "(1407, 288)\n"
     ]
    }
   ],
   "source": [
    "print(smoothed_arr.shape)"
   ]
  },
  {
   "cell_type": "code",
   "execution_count": 201,
   "metadata": {},
   "outputs": [
    {
     "data": {
      "image/png": "[encoded data removed]",
      "text/plain": [
       "<Figure size 640x480 with 1 Axes>"
      ]
     },
     "metadata": {},
     "output_type": "display_data"
    }
   ],
   "source": [
    "# plot the results\n",
    "import matplotlib.pyplot as plt\n",
    "plt.plot(test_output[0].cpu().numpy(), label='Predicted')\n",
    "plt.plot(y_test[0].cpu().numpy(), label='True')\n",
    "plt.plot(smoothed_arr[0], label='Smooth True')\n",
    "plt.legend()\n",
    "plt.show()\n"
   ]
  }
 ],
 "metadata": {
  "kernelspec": {
   "display_name": "venv",
   "language": "python",
   "name": "python3"
  },
  "language_info": {
   "codemirror_mode": {
    "name": "ipython",
    "version": 3
   },
   "file_extension": ".py",
   "mimetype": "text/x-python",
   "name": "python",
   "nbconvert_exporter": "python",
   "pygments_lexer": "ipython3",
   "version": "3.10.12"
  }
 },
 "nbformat": 4,
 "nbformat_minor": 2
}
