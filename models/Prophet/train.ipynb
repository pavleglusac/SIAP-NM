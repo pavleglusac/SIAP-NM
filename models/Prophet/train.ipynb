{
 "cells": [
  {
   "cell_type": "code",
   "execution_count": 1,
   "metadata": {},
   "outputs": [
    {
     "name": "stderr",
     "output_type": "stream",
     "text": [
      "Importing plotly failed. Interactive plots will not work.\n"
     ]
    }
   ],
   "source": [
    "import pandas as pd\n",
    "from sklearn.model_selection import train_test_split\n",
    "from sklearn.ensemble import RandomForestRegressor\n",
    "from sklearn.metrics import mean_squared_error\n",
    "from sklearn.preprocessing import LabelEncoder\n",
    "from prophet import Prophet\n",
    "import pandas as pd\n",
    "import optuna\n"
   ]
  },
  {
   "cell_type": "code",
   "execution_count": 2,
   "metadata": {},
   "outputs": [],
   "source": [
    "df = pd.read_csv('../../train_belgrade.csv')\n",
    "\n",
    "df['Timestamp'] = pd.to_datetime(df['Timestamp'])"
   ]
  },
  {
   "cell_type": "code",
   "execution_count": 3,
   "metadata": {},
   "outputs": [],
   "source": [
    "le = LabelEncoder()\n",
    "df['WeatherMain'] = le.fit_transform(df['WeatherMain'])"
   ]
  },
  {
   "cell_type": "code",
   "execution_count": 4,
   "metadata": {},
   "outputs": [],
   "source": [
    "df['ds'] = df['Timestamp']\n",
    "df['y'] = df['Detections']"
   ]
  },
  {
   "cell_type": "code",
   "execution_count": 5,
   "metadata": {},
   "outputs": [],
   "source": [
    "X = df.drop(['Detections', 'y'], axis=1)\n",
    "y = df['y']"
   ]
  },
  {
   "cell_type": "code",
   "execution_count": 6,
   "metadata": {},
   "outputs": [],
   "source": [
    "train_size = int(len(df) * 0.95)\n",
    "train, test = df[0:train_size], df[train_size:]"
   ]
  },
  {
   "cell_type": "code",
   "execution_count": 7,
   "metadata": {},
   "outputs": [],
   "source": [
    "def objective(trial):\n",
    "    \"\"\"\n",
    "        - changepoint_prior_scale: Adjusts the flexibility of the trend component.\n",
    "        - seasonality_prior_scale: Controls the strength of the seasonality model.\n",
    "        - seasonality_mode: Whether seasonality effects should be added to or multiplied by the trend component.\n",
    "    \"\"\"\n",
    "    param = {\n",
    "        'changepoint_prior_scale': trial.suggest_float('changepoint_prior_scale', 0.001, 0.5),\n",
    "        'seasonality_prior_scale': trial.suggest_float('seasonality_prior_scale', 0.01, 10),\n",
    "        'seasonality_mode': trial.suggest_categorical('seasonality_mode', ['additive', 'multiplicative']),\n",
    "        'daily_seasonality': True\n",
    "    }\n",
    "\n",
    "    m = Prophet(\n",
    "        **param\n",
    "    )\n",
    "    m.fit(train)\n",
    "    from prophet.diagnostics import cross_validation, performance_metrics\n",
    "    df_cv = cross_validation(m, initial='10080 minutes', period='1440 minutes', horizon='1440 minutes')\n",
    "    df_p = performance_metrics(df_cv)\n",
    "    # Optimize for minimum MAE\n",
    "    mse = df_p['mse'].mean()\n",
    "    return mse"
   ]
  },
  {
   "cell_type": "code",
   "execution_count": 8,
   "metadata": {},
   "outputs": [
    {
     "name": "stderr",
     "output_type": "stream",
     "text": [
      "[I 2024-03-10 12:02:49,265] A new study created in memory with name: no-name-f21fd054-0fef-4511-8df1-09ea9d4d6dca\n",
      "12:02:49 - cmdstanpy - INFO - Chain [1] start processing\n",
      "12:02:56 - cmdstanpy - INFO - Chain [1] done processing\n"
     ]
    },
    {
     "data": {
      "application/vnd.jupyter.widget-view+json": {
       "model_id": "11368b1a74e7476986f571d207863f54",
       "version_major": 2,
       "version_minor": 0
      },
      "text/plain": [
       "  0%|          | 0/34 [00:00<?, ?it/s]"
      ]
     },
     "metadata": {},
     "output_type": "display_data"
    },
    {
     "name": "stderr",
     "output_type": "stream",
     "text": [
      "12:02:57 - cmdstanpy - INFO - Chain [1] start processing\n",
      "12:02:57 - cmdstanpy - INFO - Chain [1] done processing\n",
      "12:02:57 - cmdstanpy - INFO - Chain [1] start processing\n",
      "12:02:57 - cmdstanpy - INFO - Chain [1] done processing\n",
      "12:02:57 - cmdstanpy - INFO - Chain [1] start processing\n",
      "12:02:58 - cmdstanpy - INFO - Chain [1] done processing\n",
      "12:02:58 - cmdstanpy - INFO - Chain [1] start processing\n",
      "12:02:59 - cmdstanpy - INFO - Chain [1] done processing\n",
      "12:02:59 - cmdstanpy - INFO - Chain [1] start processing\n",
      "12:03:00 - cmdstanpy - INFO - Chain [1] done processing\n",
      "12:03:00 - cmdstanpy - INFO - Chain [1] start processing\n",
      "12:03:00 - cmdstanpy - INFO - Chain [1] done processing\n",
      "12:03:00 - cmdstanpy - INFO - Chain [1] start processing\n",
      "12:03:01 - cmdstanpy - INFO - Chain [1] done processing\n",
      "12:03:01 - cmdstanpy - INFO - Chain [1] start processing\n",
      "12:03:02 - cmdstanpy - INFO - Chain [1] done processing\n",
      "12:03:02 - cmdstanpy - INFO - Chain [1] start processing\n",
      "12:03:02 - cmdstanpy - INFO - Chain [1] done processing\n",
      "12:03:03 - cmdstanpy - INFO - Chain [1] start processing\n",
      "12:03:03 - cmdstanpy - INFO - Chain [1] done processing\n",
      "12:03:03 - cmdstanpy - INFO - Chain [1] start processing\n",
      "12:03:04 - cmdstanpy - INFO - Chain [1] done processing\n",
      "12:03:04 - cmdstanpy - INFO - Chain [1] start processing\n",
      "12:03:05 - cmdstanpy - INFO - Chain [1] done processing\n",
      "12:03:05 - cmdstanpy - INFO - Chain [1] start processing\n",
      "12:03:06 - cmdstanpy - INFO - Chain [1] done processing\n",
      "12:03:06 - cmdstanpy - INFO - Chain [1] start processing\n",
      "12:03:07 - cmdstanpy - INFO - Chain [1] done processing\n",
      "12:03:07 - cmdstanpy - INFO - Chain [1] start processing\n",
      "12:03:08 - cmdstanpy - INFO - Chain [1] done processing\n",
      "12:03:08 - cmdstanpy - INFO - Chain [1] start processing\n",
      "12:03:09 - cmdstanpy - INFO - Chain [1] done processing\n",
      "12:03:09 - cmdstanpy - INFO - Chain [1] start processing\n",
      "12:03:11 - cmdstanpy - INFO - Chain [1] done processing\n",
      "12:03:11 - cmdstanpy - INFO - Chain [1] start processing\n",
      "12:03:13 - cmdstanpy - INFO - Chain [1] done processing\n",
      "12:03:13 - cmdstanpy - INFO - Chain [1] start processing\n",
      "12:03:14 - cmdstanpy - INFO - Chain [1] done processing\n",
      "12:03:15 - cmdstanpy - INFO - Chain [1] start processing\n",
      "12:03:16 - cmdstanpy - INFO - Chain [1] done processing\n",
      "12:03:16 - cmdstanpy - INFO - Chain [1] start processing\n",
      "12:03:17 - cmdstanpy - INFO - Chain [1] done processing\n",
      "12:03:18 - cmdstanpy - INFO - Chain [1] start processing\n",
      "12:03:19 - cmdstanpy - INFO - Chain [1] done processing\n",
      "12:03:20 - cmdstanpy - INFO - Chain [1] start processing\n",
      "12:03:23 - cmdstanpy - INFO - Chain [1] done processing\n",
      "12:03:23 - cmdstanpy - INFO - Chain [1] start processing\n",
      "12:03:24 - cmdstanpy - INFO - Chain [1] done processing\n",
      "12:03:25 - cmdstanpy - INFO - Chain [1] start processing\n",
      "12:03:27 - cmdstanpy - INFO - Chain [1] done processing\n",
      "12:03:27 - cmdstanpy - INFO - Chain [1] start processing\n",
      "12:03:30 - cmdstanpy - INFO - Chain [1] done processing\n",
      "12:03:30 - cmdstanpy - INFO - Chain [1] start processing\n",
      "12:03:31 - cmdstanpy - INFO - Chain [1] done processing\n",
      "12:03:32 - cmdstanpy - INFO - Chain [1] start processing\n",
      "12:03:34 - cmdstanpy - INFO - Chain [1] done processing\n",
      "12:03:35 - cmdstanpy - INFO - Chain [1] start processing\n",
      "12:03:38 - cmdstanpy - INFO - Chain [1] done processing\n",
      "12:03:39 - cmdstanpy - INFO - Chain [1] start processing\n",
      "12:03:41 - cmdstanpy - INFO - Chain [1] done processing\n",
      "12:03:42 - cmdstanpy - INFO - Chain [1] start processing\n",
      "12:03:47 - cmdstanpy - INFO - Chain [1] done processing\n",
      "12:03:48 - cmdstanpy - INFO - Chain [1] start processing\n",
      "12:03:51 - cmdstanpy - INFO - Chain [1] done processing\n",
      "12:03:52 - cmdstanpy - INFO - Chain [1] start processing\n",
      "12:03:57 - cmdstanpy - INFO - Chain [1] done processing\n",
      "12:03:58 - cmdstanpy - INFO - Chain [1] start processing\n",
      "12:04:02 - cmdstanpy - INFO - Chain [1] done processing\n",
      "[I 2024-03-10 12:04:09,286] Trial 0 finished with value: 25.857552838235975 and parameters: {'changepoint_prior_scale': 0.31965531766109984, 'seasonality_prior_scale': 1.8099028530421672, 'seasonality_mode': 'additive'}. Best is trial 0 with value: 25.857552838235975.\n",
      "12:04:09 - cmdstanpy - INFO - Chain [1] start processing\n",
      "12:04:14 - cmdstanpy - INFO - Chain [1] done processing\n"
     ]
    },
    {
     "data": {
      "application/vnd.jupyter.widget-view+json": {
       "model_id": "ce135bd066814d0992ea809a25b44a0f",
       "version_major": 2,
       "version_minor": 0
      },
      "text/plain": [
       "  0%|          | 0/34 [00:00<?, ?it/s]"
      ]
     },
     "metadata": {},
     "output_type": "display_data"
    },
    {
     "name": "stderr",
     "output_type": "stream",
     "text": [
      "12:04:15 - cmdstanpy - INFO - Chain [1] start processing\n",
      "12:04:15 - cmdstanpy - INFO - Chain [1] done processing\n",
      "12:04:15 - cmdstanpy - INFO - Chain [1] start processing\n",
      "12:04:16 - cmdstanpy - INFO - Chain [1] done processing\n",
      "12:04:16 - cmdstanpy - INFO - Chain [1] start processing\n",
      "12:04:16 - cmdstanpy - INFO - Chain [1] done processing\n",
      "12:04:16 - cmdstanpy - INFO - Chain [1] start processing\n",
      "12:04:16 - cmdstanpy - INFO - Chain [1] done processing\n",
      "12:04:17 - cmdstanpy - INFO - Chain [1] start processing\n",
      "12:04:17 - cmdstanpy - INFO - Chain [1] done processing\n",
      "12:04:17 - cmdstanpy - INFO - Chain [1] start processing\n",
      "12:04:17 - cmdstanpy - INFO - Chain [1] done processing\n",
      "12:04:17 - cmdstanpy - INFO - Chain [1] start processing\n",
      "12:04:18 - cmdstanpy - INFO - Chain [1] done processing\n",
      "12:04:18 - cmdstanpy - INFO - Chain [1] start processing\n",
      "12:04:18 - cmdstanpy - INFO - Chain [1] done processing\n",
      "12:04:18 - cmdstanpy - INFO - Chain [1] start processing\n",
      "12:04:19 - cmdstanpy - INFO - Chain [1] done processing\n",
      "12:04:19 - cmdstanpy - INFO - Chain [1] start processing\n",
      "12:04:19 - cmdstanpy - INFO - Chain [1] done processing\n",
      "12:04:20 - cmdstanpy - INFO - Chain [1] start processing\n",
      "12:04:20 - cmdstanpy - INFO - Chain [1] done processing\n",
      "12:04:20 - cmdstanpy - INFO - Chain [1] start processing\n",
      "12:04:21 - cmdstanpy - INFO - Chain [1] done processing\n",
      "12:04:21 - cmdstanpy - INFO - Chain [1] start processing\n",
      "12:04:22 - cmdstanpy - INFO - Chain [1] done processing\n",
      "12:04:22 - cmdstanpy - INFO - Chain [1] start processing\n",
      "12:04:22 - cmdstanpy - INFO - Chain [1] done processing\n",
      "12:04:23 - cmdstanpy - INFO - Chain [1] start processing\n",
      "12:04:23 - cmdstanpy - INFO - Chain [1] done processing\n",
      "12:04:24 - cmdstanpy - INFO - Chain [1] start processing\n",
      "12:04:24 - cmdstanpy - INFO - Chain [1] done processing\n",
      "12:04:24 - cmdstanpy - INFO - Chain [1] start processing\n",
      "12:04:25 - cmdstanpy - INFO - Chain [1] done processing\n",
      "12:04:25 - cmdstanpy - INFO - Chain [1] start processing\n",
      "12:04:26 - cmdstanpy - INFO - Chain [1] done processing\n",
      "12:04:27 - cmdstanpy - INFO - Chain [1] start processing\n",
      "12:04:27 - cmdstanpy - INFO - Chain [1] done processing\n",
      "12:04:28 - cmdstanpy - INFO - Chain [1] start processing\n",
      "12:04:28 - cmdstanpy - INFO - Chain [1] done processing\n",
      "12:04:28 - cmdstanpy - INFO - Chain [1] start processing\n",
      "12:04:30 - cmdstanpy - INFO - Chain [1] done processing\n",
      "12:04:30 - cmdstanpy - INFO - Chain [1] start processing\n",
      "12:04:32 - cmdstanpy - INFO - Chain [1] done processing\n",
      "12:04:32 - cmdstanpy - INFO - Chain [1] start processing\n",
      "12:04:34 - cmdstanpy - INFO - Chain [1] done processing\n",
      "12:04:35 - cmdstanpy - INFO - Chain [1] start processing\n",
      "12:04:36 - cmdstanpy - INFO - Chain [1] done processing\n",
      "12:04:37 - cmdstanpy - INFO - Chain [1] start processing\n",
      "12:04:37 - cmdstanpy - INFO - Chain [1] done processing\n",
      "12:04:38 - cmdstanpy - INFO - Chain [1] start processing\n",
      "12:04:39 - cmdstanpy - INFO - Chain [1] done processing\n",
      "12:04:40 - cmdstanpy - INFO - Chain [1] start processing\n",
      "12:04:41 - cmdstanpy - INFO - Chain [1] done processing\n",
      "12:04:41 - cmdstanpy - INFO - Chain [1] start processing\n",
      "12:04:42 - cmdstanpy - INFO - Chain [1] done processing\n",
      "12:04:43 - cmdstanpy - INFO - Chain [1] start processing\n",
      "12:04:44 - cmdstanpy - INFO - Chain [1] done processing\n",
      "12:04:45 - cmdstanpy - INFO - Chain [1] start processing\n",
      "12:04:46 - cmdstanpy - INFO - Chain [1] done processing\n",
      "12:04:47 - cmdstanpy - INFO - Chain [1] start processing\n",
      "12:04:48 - cmdstanpy - INFO - Chain [1] done processing\n",
      "12:04:49 - cmdstanpy - INFO - Chain [1] start processing\n",
      "12:04:52 - cmdstanpy - INFO - Chain [1] done processing\n",
      "12:04:53 - cmdstanpy - INFO - Chain [1] start processing\n",
      "12:04:58 - cmdstanpy - INFO - Chain [1] done processing\n",
      "12:04:59 - cmdstanpy - INFO - Chain [1] start processing\n",
      "12:05:05 - cmdstanpy - INFO - Chain [1] done processing\n",
      "[I 2024-03-10 12:05:13,435] Trial 1 finished with value: 24.614049727816003 and parameters: {'changepoint_prior_scale': 0.1627609418930574, 'seasonality_prior_scale': 2.8007468848907893, 'seasonality_mode': 'additive'}. Best is trial 1 with value: 24.614049727816003.\n",
      "12:05:13 - cmdstanpy - INFO - Chain [1] start processing\n",
      "12:05:19 - cmdstanpy - INFO - Chain [1] done processing\n"
     ]
    },
    {
     "data": {
      "application/vnd.jupyter.widget-view+json": {
       "model_id": "06bd7cb2b2384443ac62d5340e5f81fd",
       "version_major": 2,
       "version_minor": 0
      },
      "text/plain": [
       "  0%|          | 0/34 [00:00<?, ?it/s]"
      ]
     },
     "metadata": {},
     "output_type": "display_data"
    },
    {
     "name": "stderr",
     "output_type": "stream",
     "text": [
      "12:05:20 - cmdstanpy - INFO - Chain [1] start processing\n",
      "12:05:20 - cmdstanpy - INFO - Chain [1] done processing\n",
      "12:05:21 - cmdstanpy - INFO - Chain [1] start processing\n",
      "12:05:21 - cmdstanpy - INFO - Chain [1] done processing\n",
      "12:05:21 - cmdstanpy - INFO - Chain [1] start processing\n",
      "12:05:21 - cmdstanpy - INFO - Chain [1] done processing\n",
      "12:05:21 - cmdstanpy - INFO - Chain [1] start processing\n",
      "12:05:22 - cmdstanpy - INFO - Chain [1] done processing\n",
      "12:05:22 - cmdstanpy - INFO - Chain [1] start processing\n",
      "12:05:23 - cmdstanpy - INFO - Chain [1] done processing\n",
      "12:05:23 - cmdstanpy - INFO - Chain [1] start processing\n",
      "12:05:23 - cmdstanpy - INFO - Chain [1] done processing\n",
      "12:05:23 - cmdstanpy - INFO - Chain [1] start processing\n",
      "12:05:24 - cmdstanpy - INFO - Chain [1] done processing\n",
      "12:05:24 - cmdstanpy - INFO - Chain [1] start processing\n",
      "12:05:25 - cmdstanpy - INFO - Chain [1] done processing\n",
      "12:05:25 - cmdstanpy - INFO - Chain [1] start processing\n",
      "12:05:25 - cmdstanpy - INFO - Chain [1] done processing\n",
      "12:05:26 - cmdstanpy - INFO - Chain [1] start processing\n",
      "12:05:26 - cmdstanpy - INFO - Chain [1] done processing\n",
      "12:05:26 - cmdstanpy - INFO - Chain [1] start processing\n",
      "12:05:27 - cmdstanpy - INFO - Chain [1] done processing\n",
      "12:05:27 - cmdstanpy - INFO - Chain [1] start processing\n",
      "12:05:28 - cmdstanpy - INFO - Chain [1] done processing\n",
      "12:05:28 - cmdstanpy - INFO - Chain [1] start processing\n",
      "12:05:28 - cmdstanpy - INFO - Chain [1] done processing\n",
      "12:05:29 - cmdstanpy - INFO - Chain [1] start processing\n",
      "12:05:29 - cmdstanpy - INFO - Chain [1] done processing\n",
      "12:05:30 - cmdstanpy - INFO - Chain [1] start processing\n",
      "12:05:30 - cmdstanpy - INFO - Chain [1] done processing\n",
      "12:05:31 - cmdstanpy - INFO - Chain [1] start processing\n",
      "12:05:32 - cmdstanpy - INFO - Chain [1] done processing\n",
      "12:05:32 - cmdstanpy - INFO - Chain [1] start processing\n",
      "12:05:33 - cmdstanpy - INFO - Chain [1] done processing\n",
      "12:05:33 - cmdstanpy - INFO - Chain [1] start processing\n",
      "12:05:35 - cmdstanpy - INFO - Chain [1] done processing\n",
      "12:05:35 - cmdstanpy - INFO - Chain [1] start processing\n",
      "12:05:36 - cmdstanpy - INFO - Chain [1] done processing\n",
      "12:05:37 - cmdstanpy - INFO - Chain [1] start processing\n",
      "12:05:38 - cmdstanpy - INFO - Chain [1] done processing\n",
      "12:05:38 - cmdstanpy - INFO - Chain [1] start processing\n",
      "12:05:40 - cmdstanpy - INFO - Chain [1] done processing\n",
      "12:05:40 - cmdstanpy - INFO - Chain [1] start processing\n",
      "12:05:41 - cmdstanpy - INFO - Chain [1] done processing\n",
      "12:05:42 - cmdstanpy - INFO - Chain [1] start processing\n",
      "12:05:44 - cmdstanpy - INFO - Chain [1] done processing\n",
      "12:05:45 - cmdstanpy - INFO - Chain [1] start processing\n",
      "12:05:46 - cmdstanpy - INFO - Chain [1] done processing\n",
      "12:05:47 - cmdstanpy - INFO - Chain [1] start processing\n",
      "12:05:49 - cmdstanpy - INFO - Chain [1] done processing\n",
      "12:05:49 - cmdstanpy - INFO - Chain [1] start processing\n",
      "12:05:51 - cmdstanpy - INFO - Chain [1] done processing\n",
      "12:05:51 - cmdstanpy - INFO - Chain [1] start processing\n",
      "12:05:53 - cmdstanpy - INFO - Chain [1] done processing\n",
      "12:05:54 - cmdstanpy - INFO - Chain [1] start processing\n",
      "12:05:56 - cmdstanpy - INFO - Chain [1] done processing\n",
      "12:05:57 - cmdstanpy - INFO - Chain [1] start processing\n",
      "12:06:00 - cmdstanpy - INFO - Chain [1] done processing\n",
      "12:06:00 - cmdstanpy - INFO - Chain [1] start processing\n",
      "12:06:02 - cmdstanpy - INFO - Chain [1] done processing\n",
      "12:06:03 - cmdstanpy - INFO - Chain [1] start processing\n",
      "12:06:06 - cmdstanpy - INFO - Chain [1] done processing\n",
      "12:06:06 - cmdstanpy - INFO - Chain [1] start processing\n",
      "12:06:09 - cmdstanpy - INFO - Chain [1] done processing\n",
      "12:06:10 - cmdstanpy - INFO - Chain [1] start processing\n",
      "12:06:15 - cmdstanpy - INFO - Chain [1] done processing\n",
      "12:06:15 - cmdstanpy - INFO - Chain [1] start processing\n",
      "12:06:21 - cmdstanpy - INFO - Chain [1] done processing\n",
      "[I 2024-03-10 12:06:29,179] Trial 2 finished with value: 26.037138704826983 and parameters: {'changepoint_prior_scale': 0.31294762780758734, 'seasonality_prior_scale': 5.998358616078575, 'seasonality_mode': 'additive'}. Best is trial 1 with value: 24.614049727816003.\n",
      "12:06:29 - cmdstanpy - INFO - Chain [1] start processing\n",
      "12:06:34 - cmdstanpy - INFO - Chain [1] done processing\n"
     ]
    },
    {
     "data": {
      "application/vnd.jupyter.widget-view+json": {
       "model_id": "35b0ee1bb05049a8934c0ae06b6eb553",
       "version_major": 2,
       "version_minor": 0
      },
      "text/plain": [
       "  0%|          | 0/34 [00:00<?, ?it/s]"
      ]
     },
     "metadata": {},
     "output_type": "display_data"
    },
    {
     "name": "stderr",
     "output_type": "stream",
     "text": [
      "12:06:35 - cmdstanpy - INFO - Chain [1] start processing\n",
      "12:06:35 - cmdstanpy - INFO - Chain [1] done processing\n",
      "12:06:36 - cmdstanpy - INFO - Chain [1] start processing\n",
      "12:06:36 - cmdstanpy - INFO - Chain [1] done processing\n",
      "12:06:36 - cmdstanpy - INFO - Chain [1] start processing\n",
      "12:06:36 - cmdstanpy - INFO - Chain [1] done processing\n",
      "12:06:37 - cmdstanpy - INFO - Chain [1] start processing\n",
      "12:06:37 - cmdstanpy - INFO - Chain [1] done processing\n",
      "12:06:37 - cmdstanpy - INFO - Chain [1] start processing\n",
      "12:06:38 - cmdstanpy - INFO - Chain [1] done processing\n",
      "12:06:38 - cmdstanpy - INFO - Chain [1] start processing\n",
      "12:06:38 - cmdstanpy - INFO - Chain [1] done processing\n",
      "12:06:38 - cmdstanpy - INFO - Chain [1] start processing\n",
      "12:06:39 - cmdstanpy - INFO - Chain [1] done processing\n",
      "12:06:39 - cmdstanpy - INFO - Chain [1] start processing\n",
      "12:06:39 - cmdstanpy - INFO - Chain [1] done processing\n",
      "12:06:40 - cmdstanpy - INFO - Chain [1] start processing\n",
      "12:06:40 - cmdstanpy - INFO - Chain [1] done processing\n",
      "12:06:40 - cmdstanpy - INFO - Chain [1] start processing\n",
      "12:06:41 - cmdstanpy - INFO - Chain [1] done processing\n",
      "12:06:41 - cmdstanpy - INFO - Chain [1] start processing\n",
      "12:06:42 - cmdstanpy - INFO - Chain [1] done processing\n",
      "12:06:42 - cmdstanpy - INFO - Chain [1] start processing\n",
      "12:06:43 - cmdstanpy - INFO - Chain [1] done processing\n",
      "12:06:43 - cmdstanpy - INFO - Chain [1] start processing\n",
      "12:06:44 - cmdstanpy - INFO - Chain [1] done processing\n",
      "12:06:44 - cmdstanpy - INFO - Chain [1] start processing\n",
      "12:06:45 - cmdstanpy - INFO - Chain [1] done processing\n",
      "12:06:45 - cmdstanpy - INFO - Chain [1] start processing\n",
      "12:06:46 - cmdstanpy - INFO - Chain [1] done processing\n",
      "12:06:46 - cmdstanpy - INFO - Chain [1] start processing\n",
      "12:06:47 - cmdstanpy - INFO - Chain [1] done processing\n",
      "12:06:47 - cmdstanpy - INFO - Chain [1] start processing\n",
      "12:06:48 - cmdstanpy - INFO - Chain [1] done processing\n",
      "12:06:48 - cmdstanpy - INFO - Chain [1] start processing\n",
      "12:06:49 - cmdstanpy - INFO - Chain [1] done processing\n",
      "12:06:50 - cmdstanpy - INFO - Chain [1] start processing\n",
      "12:06:51 - cmdstanpy - INFO - Chain [1] done processing\n",
      "12:06:52 - cmdstanpy - INFO - Chain [1] start processing\n",
      "12:06:53 - cmdstanpy - INFO - Chain [1] done processing\n",
      "12:06:54 - cmdstanpy - INFO - Chain [1] start processing\n",
      "12:06:55 - cmdstanpy - INFO - Chain [1] done processing\n",
      "12:06:55 - cmdstanpy - INFO - Chain [1] start processing\n",
      "12:06:57 - cmdstanpy - INFO - Chain [1] done processing\n",
      "12:06:57 - cmdstanpy - INFO - Chain [1] start processing\n",
      "12:07:00 - cmdstanpy - INFO - Chain [1] done processing\n",
      "12:07:00 - cmdstanpy - INFO - Chain [1] start processing\n",
      "12:07:03 - cmdstanpy - INFO - Chain [1] done processing\n",
      "12:07:03 - cmdstanpy - INFO - Chain [1] start processing\n",
      "12:07:06 - cmdstanpy - INFO - Chain [1] done processing\n",
      "12:07:06 - cmdstanpy - INFO - Chain [1] start processing\n",
      "12:07:09 - cmdstanpy - INFO - Chain [1] done processing\n",
      "12:07:09 - cmdstanpy - INFO - Chain [1] start processing\n",
      "12:07:11 - cmdstanpy - INFO - Chain [1] done processing\n",
      "12:07:12 - cmdstanpy - INFO - Chain [1] start processing\n",
      "12:07:14 - cmdstanpy - INFO - Chain [1] done processing\n",
      "12:07:15 - cmdstanpy - INFO - Chain [1] start processing\n",
      "12:07:19 - cmdstanpy - INFO - Chain [1] done processing\n",
      "12:07:19 - cmdstanpy - INFO - Chain [1] start processing\n",
      "12:07:21 - cmdstanpy - INFO - Chain [1] done processing\n",
      "12:07:21 - cmdstanpy - INFO - Chain [1] start processing\n",
      "12:07:24 - cmdstanpy - INFO - Chain [1] done processing\n",
      "12:07:25 - cmdstanpy - INFO - Chain [1] start processing\n",
      "12:07:27 - cmdstanpy - INFO - Chain [1] done processing\n",
      "12:07:28 - cmdstanpy - INFO - Chain [1] start processing\n",
      "12:07:33 - cmdstanpy - INFO - Chain [1] done processing\n",
      "12:07:33 - cmdstanpy - INFO - Chain [1] start processing\n",
      "12:07:40 - cmdstanpy - INFO - Chain [1] done processing\n",
      "[I 2024-03-10 12:07:47,448] Trial 3 finished with value: 25.789107886412214 and parameters: {'changepoint_prior_scale': 0.310431905185112, 'seasonality_prior_scale': 7.8674601460227755, 'seasonality_mode': 'additive'}. Best is trial 1 with value: 24.614049727816003.\n",
      "12:07:48 - cmdstanpy - INFO - Chain [1] start processing\n",
      "12:07:54 - cmdstanpy - INFO - Chain [1] done processing\n"
     ]
    },
    {
     "data": {
      "application/vnd.jupyter.widget-view+json": {
       "model_id": "bd71c6778a2b4a4d8b6a08467be7188f",
       "version_major": 2,
       "version_minor": 0
      },
      "text/plain": [
       "  0%|          | 0/34 [00:00<?, ?it/s]"
      ]
     },
     "metadata": {},
     "output_type": "display_data"
    },
    {
     "name": "stderr",
     "output_type": "stream",
     "text": [
      "12:07:55 - cmdstanpy - INFO - Chain [1] start processing\n",
      "12:07:55 - cmdstanpy - INFO - Chain [1] done processing\n",
      "12:07:55 - cmdstanpy - INFO - Chain [1] start processing\n",
      "12:07:56 - cmdstanpy - INFO - Chain [1] done processing\n",
      "12:07:56 - cmdstanpy - INFO - Chain [1] start processing\n",
      "12:07:57 - cmdstanpy - INFO - Chain [1] done processing\n",
      "12:07:57 - cmdstanpy - INFO - Chain [1] start processing\n",
      "12:07:58 - cmdstanpy - INFO - Chain [1] done processing\n",
      "12:07:58 - cmdstanpy - INFO - Chain [1] start processing\n",
      "12:07:59 - cmdstanpy - INFO - Chain [1] done processing\n",
      "12:07:59 - cmdstanpy - INFO - Chain [1] start processing\n",
      "12:08:00 - cmdstanpy - INFO - Chain [1] done processing\n",
      "12:08:00 - cmdstanpy - INFO - Chain [1] start processing\n",
      "12:08:01 - cmdstanpy - INFO - Chain [1] done processing\n",
      "12:08:01 - cmdstanpy - INFO - Chain [1] start processing\n",
      "12:08:02 - cmdstanpy - INFO - Chain [1] done processing\n",
      "12:08:02 - cmdstanpy - INFO - Chain [1] start processing\n",
      "12:08:03 - cmdstanpy - INFO - Chain [1] done processing\n",
      "12:08:03 - cmdstanpy - INFO - Chain [1] start processing\n",
      "12:08:04 - cmdstanpy - INFO - Chain [1] done processing\n",
      "12:08:05 - cmdstanpy - INFO - Chain [1] start processing\n",
      "12:08:05 - cmdstanpy - INFO - Chain [1] done processing\n",
      "12:08:06 - cmdstanpy - INFO - Chain [1] start processing\n",
      "12:08:07 - cmdstanpy - INFO - Chain [1] done processing\n",
      "12:08:07 - cmdstanpy - INFO - Chain [1] start processing\n",
      "12:08:09 - cmdstanpy - INFO - Chain [1] done processing\n",
      "12:08:09 - cmdstanpy - INFO - Chain [1] start processing\n",
      "12:08:12 - cmdstanpy - INFO - Chain [1] done processing\n",
      "12:08:12 - cmdstanpy - INFO - Chain [1] start processing\n",
      "12:08:13 - cmdstanpy - INFO - Chain [1] done processing\n",
      "12:08:14 - cmdstanpy - INFO - Chain [1] start processing\n",
      "12:08:15 - cmdstanpy - INFO - Chain [1] done processing\n",
      "12:08:16 - cmdstanpy - INFO - Chain [1] start processing\n",
      "12:08:17 - cmdstanpy - INFO - Chain [1] done processing\n",
      "12:08:17 - cmdstanpy - INFO - Chain [1] start processing\n",
      "12:08:19 - cmdstanpy - INFO - Chain [1] done processing\n",
      "12:08:19 - cmdstanpy - INFO - Chain [1] start processing\n",
      "12:08:21 - cmdstanpy - INFO - Chain [1] done processing\n",
      "12:08:21 - cmdstanpy - INFO - Chain [1] start processing\n",
      "12:08:22 - cmdstanpy - INFO - Chain [1] done processing\n",
      "12:08:23 - cmdstanpy - INFO - Chain [1] start processing\n",
      "12:08:24 - cmdstanpy - INFO - Chain [1] done processing\n",
      "12:08:25 - cmdstanpy - INFO - Chain [1] start processing\n",
      "12:08:27 - cmdstanpy - INFO - Chain [1] done processing\n",
      "12:08:27 - cmdstanpy - INFO - Chain [1] start processing\n",
      "12:08:28 - cmdstanpy - INFO - Chain [1] done processing\n",
      "12:08:28 - cmdstanpy - INFO - Chain [1] start processing\n",
      "12:08:30 - cmdstanpy - INFO - Chain [1] done processing\n",
      "12:08:31 - cmdstanpy - INFO - Chain [1] start processing\n",
      "12:08:33 - cmdstanpy - INFO - Chain [1] done processing\n",
      "12:08:33 - cmdstanpy - INFO - Chain [1] start processing\n",
      "12:08:36 - cmdstanpy - INFO - Chain [1] done processing\n",
      "12:08:36 - cmdstanpy - INFO - Chain [1] start processing\n",
      "12:08:39 - cmdstanpy - INFO - Chain [1] done processing\n",
      "12:08:39 - cmdstanpy - INFO - Chain [1] start processing\n",
      "12:08:42 - cmdstanpy - INFO - Chain [1] done processing\n",
      "12:08:42 - cmdstanpy - INFO - Chain [1] start processing\n",
      "12:08:44 - cmdstanpy - INFO - Chain [1] done processing\n",
      "12:08:44 - cmdstanpy - INFO - Chain [1] start processing\n",
      "12:08:48 - cmdstanpy - INFO - Chain [1] done processing\n",
      "12:08:48 - cmdstanpy - INFO - Chain [1] start processing\n",
      "12:08:52 - cmdstanpy - INFO - Chain [1] done processing\n",
      "12:08:53 - cmdstanpy - INFO - Chain [1] start processing\n",
      "12:08:56 - cmdstanpy - INFO - Chain [1] done processing\n",
      "12:08:57 - cmdstanpy - INFO - Chain [1] start processing\n",
      "12:09:01 - cmdstanpy - INFO - Chain [1] done processing\n",
      "12:09:02 - cmdstanpy - INFO - Chain [1] start processing\n",
      "12:09:06 - cmdstanpy - INFO - Chain [1] done processing\n",
      "[I 2024-03-10 12:09:13,754] Trial 4 finished with value: 27.052108230420988 and parameters: {'changepoint_prior_scale': 0.3872297905435778, 'seasonality_prior_scale': 0.2266731546467997, 'seasonality_mode': 'multiplicative'}. Best is trial 1 with value: 24.614049727816003.\n",
      "12:09:14 - cmdstanpy - INFO - Chain [1] start processing\n",
      "12:09:17 - cmdstanpy - INFO - Chain [1] done processing\n"
     ]
    },
    {
     "data": {
      "application/vnd.jupyter.widget-view+json": {
       "model_id": "5b355586233f4a6899e31889e744b0a6",
       "version_major": 2,
       "version_minor": 0
      },
      "text/plain": [
       "  0%|          | 0/34 [00:00<?, ?it/s]"
      ]
     },
     "metadata": {},
     "output_type": "display_data"
    },
    {
     "name": "stderr",
     "output_type": "stream",
     "text": [
      "12:09:18 - cmdstanpy - INFO - Chain [1] start processing\n",
      "12:09:18 - cmdstanpy - INFO - Chain [1] done processing\n",
      "12:09:18 - cmdstanpy - INFO - Chain [1] start processing\n",
      "12:09:18 - cmdstanpy - INFO - Chain [1] done processing\n",
      "12:09:19 - cmdstanpy - INFO - Chain [1] start processing\n",
      "12:09:19 - cmdstanpy - INFO - Chain [1] done processing\n",
      "12:09:19 - cmdstanpy - INFO - Chain [1] start processing\n",
      "12:09:19 - cmdstanpy - INFO - Chain [1] done processing\n",
      "12:09:20 - cmdstanpy - INFO - Chain [1] start processing\n",
      "12:09:20 - cmdstanpy - INFO - Chain [1] done processing\n",
      "12:09:20 - cmdstanpy - INFO - Chain [1] start processing\n",
      "12:09:21 - cmdstanpy - INFO - Chain [1] done processing\n",
      "12:09:21 - cmdstanpy - INFO - Chain [1] start processing\n",
      "12:09:21 - cmdstanpy - INFO - Chain [1] done processing\n",
      "12:09:21 - cmdstanpy - INFO - Chain [1] start processing\n",
      "12:09:22 - cmdstanpy - INFO - Chain [1] done processing\n",
      "12:09:22 - cmdstanpy - INFO - Chain [1] start processing\n",
      "12:09:23 - cmdstanpy - INFO - Chain [1] done processing\n",
      "12:09:23 - cmdstanpy - INFO - Chain [1] start processing\n",
      "12:09:23 - cmdstanpy - INFO - Chain [1] done processing\n",
      "12:09:24 - cmdstanpy - INFO - Chain [1] start processing\n",
      "12:09:24 - cmdstanpy - INFO - Chain [1] done processing\n",
      "12:09:24 - cmdstanpy - INFO - Chain [1] start processing\n",
      "12:09:25 - cmdstanpy - INFO - Chain [1] done processing\n",
      "12:09:25 - cmdstanpy - INFO - Chain [1] start processing\n",
      "12:09:26 - cmdstanpy - INFO - Chain [1] done processing\n",
      "12:09:26 - cmdstanpy - INFO - Chain [1] start processing\n",
      "12:09:27 - cmdstanpy - INFO - Chain [1] done processing\n",
      "12:09:28 - cmdstanpy - INFO - Chain [1] start processing\n",
      "12:09:28 - cmdstanpy - INFO - Chain [1] done processing\n",
      "12:09:29 - cmdstanpy - INFO - Chain [1] start processing\n",
      "12:09:30 - cmdstanpy - INFO - Chain [1] done processing\n",
      "12:09:30 - cmdstanpy - INFO - Chain [1] start processing\n",
      "12:52:33 - cmdstanpy - INFO - Chain [1] done processing\n",
      "12:52:34 - cmdstanpy - INFO - Chain [1] start processing\n",
      "12:52:35 - cmdstanpy - INFO - Chain [1] done processing\n",
      "12:52:36 - cmdstanpy - INFO - Chain [1] start processing\n",
      "12:52:37 - cmdstanpy - INFO - Chain [1] done processing\n",
      "12:52:37 - cmdstanpy - INFO - Chain [1] start processing\n",
      "12:52:39 - cmdstanpy - INFO - Chain [1] done processing\n",
      "12:52:39 - cmdstanpy - INFO - Chain [1] start processing\n",
      "12:52:40 - cmdstanpy - INFO - Chain [1] done processing\n",
      "12:52:41 - cmdstanpy - INFO - Chain [1] start processing\n",
      "12:52:42 - cmdstanpy - INFO - Chain [1] done processing\n",
      "12:52:42 - cmdstanpy - INFO - Chain [1] start processing\n",
      "12:52:46 - cmdstanpy - INFO - Chain [1] done processing\n",
      "12:52:48 - cmdstanpy - INFO - Chain [1] start processing\n",
      "12:52:53 - cmdstanpy - INFO - Chain [1] done processing\n",
      "12:52:55 - cmdstanpy - INFO - Chain [1] start processing\n",
      "12:53:00 - cmdstanpy - INFO - Chain [1] done processing\n",
      "12:53:02 - cmdstanpy - INFO - Chain [1] start processing\n",
      "12:53:07 - cmdstanpy - INFO - Chain [1] done processing\n",
      "14:09:53 - cmdstanpy - INFO - Chain [1] start processing\n",
      "14:09:55 - cmdstanpy - INFO - Chain [1] done processing\n",
      "14:09:56 - cmdstanpy - INFO - Chain [1] start processing\n",
      "14:09:57 - cmdstanpy - INFO - Chain [1] done processing\n",
      "14:09:58 - cmdstanpy - INFO - Chain [1] start processing\n",
      "14:10:00 - cmdstanpy - INFO - Chain [1] done processing\n",
      "14:10:00 - cmdstanpy - INFO - Chain [1] start processing\n",
      "14:10:02 - cmdstanpy - INFO - Chain [1] done processing\n",
      "14:10:04 - cmdstanpy - INFO - Chain [1] start processing\n",
      "14:10:14 - cmdstanpy - INFO - Chain [1] done processing\n",
      "14:10:17 - cmdstanpy - INFO - Chain [1] start processing\n",
      "15:09:33 - cmdstanpy - INFO - Chain [1] done processing\n",
      "15:09:34 - cmdstanpy - INFO - Chain [1] start processing\n",
      "15:09:36 - cmdstanpy - INFO - Chain [1] done processing\n",
      "15:09:37 - cmdstanpy - INFO - Chain [1] start processing\n",
      "15:09:42 - cmdstanpy - INFO - Chain [1] done processing\n",
      "[I 2024-03-10 16:11:04,356] Trial 5 finished with value: 25.46280692873561 and parameters: {'changepoint_prior_scale': 0.14516371330116457, 'seasonality_prior_scale': 7.327243251709527, 'seasonality_mode': 'multiplicative'}. Best is trial 1 with value: 24.614049727816003.\n",
      "16:11:05 - cmdstanpy - INFO - Chain [1] start processing\n",
      "16:11:06 - cmdstanpy - INFO - Chain [1] done processing\n"
     ]
    },
    {
     "data": {
      "application/vnd.jupyter.widget-view+json": {
       "model_id": "9699b3a36bbb4e42822c96d97b7d7b48",
       "version_major": 2,
       "version_minor": 0
      },
      "text/plain": [
       "  0%|          | 0/34 [00:00<?, ?it/s]"
      ]
     },
     "metadata": {},
     "output_type": "display_data"
    },
    {
     "name": "stderr",
     "output_type": "stream",
     "text": [
      "16:11:07 - cmdstanpy - INFO - Chain [1] start processing\n",
      "16:11:07 - cmdstanpy - INFO - Chain [1] done processing\n",
      "16:11:07 - cmdstanpy - INFO - Chain [1] start processing\n",
      "16:11:07 - cmdstanpy - INFO - Chain [1] done processing\n",
      "16:11:07 - cmdstanpy - INFO - Chain [1] start processing\n",
      "16:11:07 - cmdstanpy - INFO - Chain [1] done processing\n",
      "16:11:07 - cmdstanpy - INFO - Chain [1] start processing\n",
      "16:11:08 - cmdstanpy - INFO - Chain [1] done processing\n",
      "16:11:08 - cmdstanpy - INFO - Chain [1] start processing\n",
      "16:11:08 - cmdstanpy - INFO - Chain [1] done processing\n",
      "16:11:08 - cmdstanpy - INFO - Chain [1] start processing\n",
      "16:11:08 - cmdstanpy - INFO - Chain [1] done processing\n",
      "16:11:09 - cmdstanpy - INFO - Chain [1] start processing\n",
      "16:11:09 - cmdstanpy - INFO - Chain [1] done processing\n",
      "16:11:09 - cmdstanpy - INFO - Chain [1] start processing\n",
      "16:11:09 - cmdstanpy - INFO - Chain [1] done processing\n",
      "16:11:10 - cmdstanpy - INFO - Chain [1] start processing\n",
      "16:11:10 - cmdstanpy - INFO - Chain [1] done processing\n",
      "16:11:10 - cmdstanpy - INFO - Chain [1] start processing\n",
      "16:11:10 - cmdstanpy - INFO - Chain [1] done processing\n",
      "16:11:11 - cmdstanpy - INFO - Chain [1] start processing\n",
      "16:11:11 - cmdstanpy - INFO - Chain [1] done processing\n",
      "16:11:11 - cmdstanpy - INFO - Chain [1] start processing\n",
      "16:11:11 - cmdstanpy - INFO - Chain [1] done processing\n",
      "16:11:12 - cmdstanpy - INFO - Chain [1] start processing\n",
      "16:11:12 - cmdstanpy - INFO - Chain [1] done processing\n",
      "16:11:12 - cmdstanpy - INFO - Chain [1] start processing\n",
      "16:11:13 - cmdstanpy - INFO - Chain [1] done processing\n",
      "16:11:13 - cmdstanpy - INFO - Chain [1] start processing\n",
      "16:11:13 - cmdstanpy - INFO - Chain [1] done processing\n",
      "16:11:14 - cmdstanpy - INFO - Chain [1] start processing\n",
      "16:11:14 - cmdstanpy - INFO - Chain [1] done processing\n",
      "16:11:14 - cmdstanpy - INFO - Chain [1] start processing\n",
      "16:11:14 - cmdstanpy - INFO - Chain [1] done processing\n",
      "16:11:15 - cmdstanpy - INFO - Chain [1] start processing\n",
      "16:11:15 - cmdstanpy - INFO - Chain [1] done processing\n",
      "16:11:15 - cmdstanpy - INFO - Chain [1] start processing\n",
      "16:11:16 - cmdstanpy - INFO - Chain [1] done processing\n",
      "16:11:16 - cmdstanpy - INFO - Chain [1] start processing\n",
      "16:11:17 - cmdstanpy - INFO - Chain [1] done processing\n",
      "16:11:17 - cmdstanpy - INFO - Chain [1] start processing\n",
      "16:11:17 - cmdstanpy - INFO - Chain [1] done processing\n",
      "16:11:18 - cmdstanpy - INFO - Chain [1] start processing\n",
      "16:11:19 - cmdstanpy - INFO - Chain [1] done processing\n",
      "16:11:19 - cmdstanpy - INFO - Chain [1] start processing\n",
      "16:11:20 - cmdstanpy - INFO - Chain [1] done processing\n",
      "16:11:20 - cmdstanpy - INFO - Chain [1] start processing\n",
      "16:11:21 - cmdstanpy - INFO - Chain [1] done processing\n",
      "16:11:21 - cmdstanpy - INFO - Chain [1] start processing\n",
      "16:11:22 - cmdstanpy - INFO - Chain [1] done processing\n",
      "16:11:22 - cmdstanpy - INFO - Chain [1] start processing\n",
      "16:11:22 - cmdstanpy - INFO - Chain [1] done processing\n",
      "16:11:23 - cmdstanpy - INFO - Chain [1] start processing\n",
      "16:11:23 - cmdstanpy - INFO - Chain [1] done processing\n",
      "16:11:24 - cmdstanpy - INFO - Chain [1] start processing\n",
      "16:11:24 - cmdstanpy - INFO - Chain [1] done processing\n",
      "16:11:25 - cmdstanpy - INFO - Chain [1] start processing\n",
      "16:11:26 - cmdstanpy - INFO - Chain [1] done processing\n",
      "16:11:26 - cmdstanpy - INFO - Chain [1] start processing\n",
      "16:11:27 - cmdstanpy - INFO - Chain [1] done processing\n",
      "16:11:27 - cmdstanpy - INFO - Chain [1] start processing\n",
      "16:11:28 - cmdstanpy - INFO - Chain [1] done processing\n",
      "16:11:29 - cmdstanpy - INFO - Chain [1] start processing\n",
      "16:11:30 - cmdstanpy - INFO - Chain [1] done processing\n",
      "16:11:30 - cmdstanpy - INFO - Chain [1] start processing\n",
      "16:11:32 - cmdstanpy - INFO - Chain [1] done processing\n",
      "16:11:32 - cmdstanpy - INFO - Chain [1] start processing\n",
      "16:11:34 - cmdstanpy - INFO - Chain [1] done processing\n",
      "[I 2024-03-10 17:12:07,582] Trial 6 finished with value: 23.956440457130604 and parameters: {'changepoint_prior_scale': 0.04047262835666663, 'seasonality_prior_scale': 3.0546551281039633, 'seasonality_mode': 'additive'}. Best is trial 6 with value: 23.956440457130604.\n",
      "17:12:08 - cmdstanpy - INFO - Chain [1] start processing\n",
      "17:12:13 - cmdstanpy - INFO - Chain [1] done processing\n"
     ]
    },
    {
     "data": {
      "application/vnd.jupyter.widget-view+json": {
       "model_id": "1a464d4091c04863a69b24ea30c6a4dc",
       "version_major": 2,
       "version_minor": 0
      },
      "text/plain": [
       "  0%|          | 0/34 [00:00<?, ?it/s]"
      ]
     },
     "metadata": {},
     "output_type": "display_data"
    },
    {
     "name": "stderr",
     "output_type": "stream",
     "text": [
      "17:12:14 - cmdstanpy - INFO - Chain [1] start processing\n",
      "17:12:14 - cmdstanpy - INFO - Chain [1] done processing\n",
      "17:12:14 - cmdstanpy - INFO - Chain [1] start processing\n",
      "17:12:15 - cmdstanpy - INFO - Chain [1] done processing\n",
      "17:12:15 - cmdstanpy - INFO - Chain [1] start processing\n",
      "17:12:15 - cmdstanpy - INFO - Chain [1] done processing\n",
      "17:12:15 - cmdstanpy - INFO - Chain [1] start processing\n",
      "17:12:16 - cmdstanpy - INFO - Chain [1] done processing\n",
      "17:12:16 - cmdstanpy - INFO - Chain [1] start processing\n",
      "17:12:16 - cmdstanpy - INFO - Chain [1] done processing\n",
      "17:12:17 - cmdstanpy - INFO - Chain [1] start processing\n",
      "17:12:17 - cmdstanpy - INFO - Chain [1] done processing\n",
      "17:12:17 - cmdstanpy - INFO - Chain [1] start processing\n",
      "17:12:18 - cmdstanpy - INFO - Chain [1] done processing\n",
      "17:12:18 - cmdstanpy - INFO - Chain [1] start processing\n",
      "17:12:19 - cmdstanpy - INFO - Chain [1] done processing\n",
      "17:12:19 - cmdstanpy - INFO - Chain [1] start processing\n",
      "17:12:20 - cmdstanpy - INFO - Chain [1] done processing\n",
      "17:12:20 - cmdstanpy - INFO - Chain [1] start processing\n",
      "17:12:21 - cmdstanpy - INFO - Chain [1] done processing\n",
      "17:12:21 - cmdstanpy - INFO - Chain [1] start processing\n",
      "17:12:22 - cmdstanpy - INFO - Chain [1] done processing\n",
      "17:12:22 - cmdstanpy - INFO - Chain [1] start processing\n",
      "17:12:23 - cmdstanpy - INFO - Chain [1] done processing\n",
      "17:12:23 - cmdstanpy - INFO - Chain [1] start processing\n",
      "17:12:24 - cmdstanpy - INFO - Chain [1] done processing\n",
      "17:12:24 - cmdstanpy - INFO - Chain [1] start processing\n",
      "17:12:25 - cmdstanpy - INFO - Chain [1] done processing\n",
      "17:12:25 - cmdstanpy - INFO - Chain [1] start processing\n",
      "17:12:26 - cmdstanpy - INFO - Chain [1] done processing\n",
      "17:12:26 - cmdstanpy - INFO - Chain [1] start processing\n",
      "17:12:27 - cmdstanpy - INFO - Chain [1] done processing\n",
      "17:12:28 - cmdstanpy - INFO - Chain [1] start processing\n",
      "17:12:29 - cmdstanpy - INFO - Chain [1] done processing\n",
      "17:12:29 - cmdstanpy - INFO - Chain [1] start processing\n",
      "17:12:30 - cmdstanpy - INFO - Chain [1] done processing\n",
      "17:12:31 - cmdstanpy - INFO - Chain [1] start processing\n",
      "17:12:31 - cmdstanpy - INFO - Chain [1] done processing\n",
      "17:12:32 - cmdstanpy - INFO - Chain [1] start processing\n",
      "17:12:33 - cmdstanpy - INFO - Chain [1] done processing\n",
      "17:12:33 - cmdstanpy - INFO - Chain [1] start processing\n",
      "17:12:34 - cmdstanpy - INFO - Chain [1] done processing\n",
      "17:12:35 - cmdstanpy - INFO - Chain [1] start processing\n",
      "17:12:36 - cmdstanpy - INFO - Chain [1] done processing\n",
      "17:12:37 - cmdstanpy - INFO - Chain [1] start processing\n",
      "17:12:38 - cmdstanpy - INFO - Chain [1] done processing\n",
      "17:12:38 - cmdstanpy - INFO - Chain [1] start processing\n",
      "17:12:39 - cmdstanpy - INFO - Chain [1] done processing\n",
      "17:12:40 - cmdstanpy - INFO - Chain [1] start processing\n",
      "17:12:41 - cmdstanpy - INFO - Chain [1] done processing\n",
      "17:16:10 - cmdstanpy - INFO - Chain [1] start processing\n",
      "17:16:12 - cmdstanpy - INFO - Chain [1] done processing\n",
      "17:16:12 - cmdstanpy - INFO - Chain [1] start processing\n",
      "17:16:15 - cmdstanpy - INFO - Chain [1] done processing\n",
      "17:16:16 - cmdstanpy - INFO - Chain [1] start processing\n",
      "17:16:18 - cmdstanpy - INFO - Chain [1] done processing\n",
      "17:16:18 - cmdstanpy - INFO - Chain [1] start processing\n",
      "17:16:20 - cmdstanpy - INFO - Chain [1] done processing\n",
      "17:16:20 - cmdstanpy - INFO - Chain [1] start processing\n",
      "17:16:22 - cmdstanpy - INFO - Chain [1] done processing\n",
      "18:13:12 - cmdstanpy - INFO - Chain [1] start processing\n",
      "18:13:14 - cmdstanpy - INFO - Chain [1] done processing\n",
      "18:13:15 - cmdstanpy - INFO - Chain [1] start processing\n",
      "18:13:18 - cmdstanpy - INFO - Chain [1] done processing\n",
      "18:13:19 - cmdstanpy - INFO - Chain [1] start processing\n",
      "18:17:17 - cmdstanpy - INFO - Chain [1] done processing\n",
      "18:17:18 - cmdstanpy - INFO - Chain [1] start processing\n",
      "18:17:23 - cmdstanpy - INFO - Chain [1] done processing\n",
      "[I 2024-03-10 18:30:03,091] Trial 7 finished with value: 25.94018986993848 and parameters: {'changepoint_prior_scale': 0.2047774524682917, 'seasonality_prior_scale': 8.95882007518369, 'seasonality_mode': 'multiplicative'}. Best is trial 6 with value: 23.956440457130604.\n",
      "18:30:03 - cmdstanpy - INFO - Chain [1] start processing\n",
      "18:30:07 - cmdstanpy - INFO - Chain [1] done processing\n"
     ]
    },
    {
     "data": {
      "application/vnd.jupyter.widget-view+json": {
       "model_id": "269e649632c84038b8ec57a95bcc2a8e",
       "version_major": 2,
       "version_minor": 0
      },
      "text/plain": [
       "  0%|          | 0/34 [00:00<?, ?it/s]"
      ]
     },
     "metadata": {},
     "output_type": "display_data"
    },
    {
     "name": "stderr",
     "output_type": "stream",
     "text": [
      "18:30:08 - cmdstanpy - INFO - Chain [1] start processing\n",
      "18:30:08 - cmdstanpy - INFO - Chain [1] done processing\n",
      "18:30:08 - cmdstanpy - INFO - Chain [1] start processing\n",
      "18:30:09 - cmdstanpy - INFO - Chain [1] done processing\n",
      "18:30:09 - cmdstanpy - INFO - Chain [1] start processing\n",
      "18:30:10 - cmdstanpy - INFO - Chain [1] done processing\n",
      "18:30:10 - cmdstanpy - INFO - Chain [1] start processing\n",
      "18:30:10 - cmdstanpy - INFO - Chain [1] done processing\n",
      "18:30:11 - cmdstanpy - INFO - Chain [1] start processing\n",
      "18:30:11 - cmdstanpy - INFO - Chain [1] done processing\n",
      "18:30:12 - cmdstanpy - INFO - Chain [1] start processing\n",
      "18:30:12 - cmdstanpy - INFO - Chain [1] done processing\n",
      "18:30:12 - cmdstanpy - INFO - Chain [1] start processing\n",
      "18:30:13 - cmdstanpy - INFO - Chain [1] done processing\n",
      "18:30:14 - cmdstanpy - INFO - Chain [1] start processing\n",
      "18:30:14 - cmdstanpy - INFO - Chain [1] done processing\n",
      "18:30:15 - cmdstanpy - INFO - Chain [1] start processing\n",
      "18:30:15 - cmdstanpy - INFO - Chain [1] done processing\n",
      "18:30:16 - cmdstanpy - INFO - Chain [1] start processing\n",
      "18:30:16 - cmdstanpy - INFO - Chain [1] done processing\n",
      "18:30:17 - cmdstanpy - INFO - Chain [1] start processing\n",
      "18:30:17 - cmdstanpy - INFO - Chain [1] done processing\n",
      "18:30:17 - cmdstanpy - INFO - Chain [1] start processing\n",
      "18:30:19 - cmdstanpy - INFO - Chain [1] done processing\n",
      "18:30:19 - cmdstanpy - INFO - Chain [1] start processing\n",
      "18:30:20 - cmdstanpy - INFO - Chain [1] done processing\n",
      "18:30:20 - cmdstanpy - INFO - Chain [1] start processing\n",
      "18:30:21 - cmdstanpy - INFO - Chain [1] done processing\n",
      "18:30:21 - cmdstanpy - INFO - Chain [1] start processing\n",
      "18:30:22 - cmdstanpy - INFO - Chain [1] done processing\n",
      "18:30:23 - cmdstanpy - INFO - Chain [1] start processing\n",
      "18:30:24 - cmdstanpy - INFO - Chain [1] done processing\n",
      "18:30:24 - cmdstanpy - INFO - Chain [1] start processing\n",
      "18:30:25 - cmdstanpy - INFO - Chain [1] done processing\n",
      "18:30:26 - cmdstanpy - INFO - Chain [1] start processing\n",
      "18:30:27 - cmdstanpy - INFO - Chain [1] done processing\n",
      "18:30:28 - cmdstanpy - INFO - Chain [1] start processing\n",
      "18:30:28 - cmdstanpy - INFO - Chain [1] done processing\n",
      "18:30:28 - cmdstanpy - INFO - Chain [1] start processing\n",
      "18:30:29 - cmdstanpy - INFO - Chain [1] done processing\n",
      "18:30:30 - cmdstanpy - INFO - Chain [1] start processing\n",
      "18:30:31 - cmdstanpy - INFO - Chain [1] done processing\n",
      "18:30:32 - cmdstanpy - INFO - Chain [1] start processing\n",
      "18:30:34 - cmdstanpy - INFO - Chain [1] done processing\n",
      "18:30:34 - cmdstanpy - INFO - Chain [1] start processing\n",
      "18:30:36 - cmdstanpy - INFO - Chain [1] done processing\n",
      "18:30:37 - cmdstanpy - INFO - Chain [1] start processing\n",
      "18:30:38 - cmdstanpy - INFO - Chain [1] done processing\n",
      "18:30:39 - cmdstanpy - INFO - Chain [1] start processing\n",
      "18:30:41 - cmdstanpy - INFO - Chain [1] done processing\n",
      "18:30:41 - cmdstanpy - INFO - Chain [1] start processing\n",
      "18:30:43 - cmdstanpy - INFO - Chain [1] done processing\n",
      "18:30:43 - cmdstanpy - INFO - Chain [1] start processing\n",
      "19:14:20 - cmdstanpy - INFO - Chain [1] done processing\n",
      "19:14:21 - cmdstanpy - INFO - Chain [1] start processing\n",
      "19:14:24 - cmdstanpy - INFO - Chain [1] done processing\n",
      "19:14:25 - cmdstanpy - INFO - Chain [1] start processing\n",
      "19:14:27 - cmdstanpy - INFO - Chain [1] done processing\n",
      "19:14:27 - cmdstanpy - INFO - Chain [1] start processing\n",
      "19:14:30 - cmdstanpy - INFO - Chain [1] done processing\n",
      "19:14:31 - cmdstanpy - INFO - Chain [1] start processing\n",
      "19:14:36 - cmdstanpy - INFO - Chain [1] done processing\n",
      "19:14:37 - cmdstanpy - INFO - Chain [1] start processing\n",
      "19:14:40 - cmdstanpy - INFO - Chain [1] done processing\n",
      "19:14:40 - cmdstanpy - INFO - Chain [1] start processing\n",
      "19:14:46 - cmdstanpy - INFO - Chain [1] done processing\n",
      "19:14:47 - cmdstanpy - INFO - Chain [1] start processing\n",
      "20:05:23 - cmdstanpy - INFO - Chain [1] done processing\n",
      "[I 2024-03-10 20:05:30,771] Trial 8 finished with value: 26.99119679042019 and parameters: {'changepoint_prior_scale': 0.4863986323614704, 'seasonality_prior_scale': 8.775723074512305, 'seasonality_mode': 'additive'}. Best is trial 6 with value: 23.956440457130604.\n",
      "20:05:31 - cmdstanpy - INFO - Chain [1] start processing\n",
      "20:05:32 - cmdstanpy - INFO - Chain [1] done processing\n"
     ]
    },
    {
     "data": {
      "application/vnd.jupyter.widget-view+json": {
       "model_id": "cfb5114454e1496a966e14c2fd5d212d",
       "version_major": 2,
       "version_minor": 0
      },
      "text/plain": [
       "  0%|          | 0/34 [00:00<?, ?it/s]"
      ]
     },
     "metadata": {},
     "output_type": "display_data"
    },
    {
     "name": "stderr",
     "output_type": "stream",
     "text": [
      "20:05:33 - cmdstanpy - INFO - Chain [1] start processing\n",
      "20:05:33 - cmdstanpy - INFO - Chain [1] done processing\n",
      "20:05:33 - cmdstanpy - INFO - Chain [1] start processing\n",
      "20:05:34 - cmdstanpy - INFO - Chain [1] done processing\n",
      "20:05:34 - cmdstanpy - INFO - Chain [1] start processing\n",
      "20:05:34 - cmdstanpy - INFO - Chain [1] done processing\n",
      "20:05:34 - cmdstanpy - INFO - Chain [1] start processing\n",
      "20:05:34 - cmdstanpy - INFO - Chain [1] done processing\n",
      "20:05:35 - cmdstanpy - INFO - Chain [1] start processing\n",
      "20:05:35 - cmdstanpy - INFO - Chain [1] done processing\n",
      "20:05:35 - cmdstanpy - INFO - Chain [1] start processing\n",
      "20:05:35 - cmdstanpy - INFO - Chain [1] done processing\n",
      "20:05:35 - cmdstanpy - INFO - Chain [1] start processing\n",
      "20:05:36 - cmdstanpy - INFO - Chain [1] done processing\n",
      "20:05:36 - cmdstanpy - INFO - Chain [1] start processing\n",
      "20:05:36 - cmdstanpy - INFO - Chain [1] done processing\n",
      "20:05:36 - cmdstanpy - INFO - Chain [1] start processing\n",
      "20:05:36 - cmdstanpy - INFO - Chain [1] done processing\n",
      "20:05:37 - cmdstanpy - INFO - Chain [1] start processing\n",
      "20:05:37 - cmdstanpy - INFO - Chain [1] done processing\n",
      "20:05:37 - cmdstanpy - INFO - Chain [1] start processing\n",
      "20:05:37 - cmdstanpy - INFO - Chain [1] done processing\n",
      "20:05:38 - cmdstanpy - INFO - Chain [1] start processing\n",
      "20:05:38 - cmdstanpy - INFO - Chain [1] done processing\n",
      "20:05:38 - cmdstanpy - INFO - Chain [1] start processing\n",
      "20:05:39 - cmdstanpy - INFO - Chain [1] done processing\n",
      "20:05:39 - cmdstanpy - INFO - Chain [1] start processing\n",
      "20:05:39 - cmdstanpy - INFO - Chain [1] done processing\n",
      "20:05:39 - cmdstanpy - INFO - Chain [1] start processing\n",
      "20:05:40 - cmdstanpy - INFO - Chain [1] done processing\n",
      "20:05:40 - cmdstanpy - INFO - Chain [1] start processing\n",
      "20:05:41 - cmdstanpy - INFO - Chain [1] done processing\n",
      "20:05:41 - cmdstanpy - INFO - Chain [1] start processing\n",
      "20:05:42 - cmdstanpy - INFO - Chain [1] done processing\n",
      "20:05:42 - cmdstanpy - INFO - Chain [1] start processing\n",
      "20:05:42 - cmdstanpy - INFO - Chain [1] done processing\n",
      "20:05:43 - cmdstanpy - INFO - Chain [1] start processing\n",
      "20:05:43 - cmdstanpy - INFO - Chain [1] done processing\n",
      "20:05:44 - cmdstanpy - INFO - Chain [1] start processing\n",
      "20:05:44 - cmdstanpy - INFO - Chain [1] done processing\n",
      "20:05:45 - cmdstanpy - INFO - Chain [1] start processing\n",
      "20:05:45 - cmdstanpy - INFO - Chain [1] done processing\n",
      "20:05:46 - cmdstanpy - INFO - Chain [1] start processing\n",
      "20:05:46 - cmdstanpy - INFO - Chain [1] done processing\n",
      "20:05:47 - cmdstanpy - INFO - Chain [1] start processing\n",
      "20:05:47 - cmdstanpy - INFO - Chain [1] done processing\n",
      "20:05:48 - cmdstanpy - INFO - Chain [1] start processing\n",
      "20:05:48 - cmdstanpy - INFO - Chain [1] done processing\n",
      "20:05:49 - cmdstanpy - INFO - Chain [1] start processing\n",
      "20:05:50 - cmdstanpy - INFO - Chain [1] done processing\n",
      "20:05:50 - cmdstanpy - INFO - Chain [1] start processing\n",
      "20:05:51 - cmdstanpy - INFO - Chain [1] done processing\n",
      "20:05:51 - cmdstanpy - INFO - Chain [1] start processing\n",
      "20:05:52 - cmdstanpy - INFO - Chain [1] done processing\n",
      "20:05:53 - cmdstanpy - INFO - Chain [1] start processing\n",
      "20:05:54 - cmdstanpy - INFO - Chain [1] done processing\n",
      "20:05:54 - cmdstanpy - INFO - Chain [1] start processing\n",
      "20:15:24 - cmdstanpy - INFO - Chain [1] done processing\n",
      "20:15:25 - cmdstanpy - INFO - Chain [1] start processing\n",
      "20:15:26 - cmdstanpy - INFO - Chain [1] done processing\n",
      "20:15:27 - cmdstanpy - INFO - Chain [1] start processing\n",
      "20:15:28 - cmdstanpy - INFO - Chain [1] done processing\n",
      "20:15:29 - cmdstanpy - INFO - Chain [1] start processing\n",
      "20:15:31 - cmdstanpy - INFO - Chain [1] done processing\n",
      "20:15:31 - cmdstanpy - INFO - Chain [1] start processing\n",
      "20:15:33 - cmdstanpy - INFO - Chain [1] done processing\n",
      "20:15:34 - cmdstanpy - INFO - Chain [1] start processing\n",
      "20:15:36 - cmdstanpy - INFO - Chain [1] done processing\n",
      "[I 2024-03-10 20:15:43,286] Trial 9 finished with value: 24.266143857526895 and parameters: {'changepoint_prior_scale': 0.07055373072955168, 'seasonality_prior_scale': 1.2203490985839862, 'seasonality_mode': 'additive'}. Best is trial 6 with value: 23.956440457130604.\n"
     ]
    }
   ],
   "source": [
    "study = optuna.create_study(direction='minimize')\n",
    "study.optimize(objective, n_trials=10)"
   ]
  },
  {
   "cell_type": "code",
   "execution_count": 9,
   "metadata": {},
   "outputs": [
    {
     "name": "stdout",
     "output_type": "stream",
     "text": [
      "{'changepoint_prior_scale': 0.04047262835666663, 'seasonality_prior_scale': 3.0546551281039633, 'seasonality_mode': 'additive'}\n"
     ]
    }
   ],
   "source": [
    "print(study.best_params)"
   ]
  },
  {
   "cell_type": "code",
   "execution_count": 21,
   "metadata": {},
   "outputs": [],
   "source": [
    "best_params = {'changepoint_prior_scale': 0.04047262835666663, 'seasonality_prior_scale': 3.0546551281039633, 'seasonality_mode': 'additive'}\n",
    "# best_params = {'changepoint_prior_scale': 0.1627609418930574, 'seasonality_prior_scale': 2.8007468848907893, 'seasonality_mode': 'additive'}"
   ]
  },
  {
   "cell_type": "code",
   "execution_count": 22,
   "metadata": {},
   "outputs": [
    {
     "name": "stderr",
     "output_type": "stream",
     "text": [
      "21:32:39 - cmdstanpy - INFO - Chain [1] start processing\n",
      "21:32:40 - cmdstanpy - INFO - Chain [1] done processing\n"
     ]
    },
    {
     "data": {
      "text/plain": [
       "<prophet.forecaster.Prophet at 0x13a2c5930>"
      ]
     },
     "execution_count": 22,
     "metadata": {},
     "output_type": "execute_result"
    }
   ],
   "source": [
    "# best_params = study.best_params\n",
    "m_optimized = Prophet(\n",
    "    **best_params\n",
    ")\n",
    "m_optimized.fit(train)"
   ]
  },
  {
   "cell_type": "code",
   "execution_count": 23,
   "metadata": {},
   "outputs": [],
   "source": [
    "forecast = m_optimized.predict(test)\n"
   ]
  },
  {
   "cell_type": "code",
   "execution_count": 24,
   "metadata": {},
   "outputs": [
    {
     "data": {
      "text/html": [
       "<div>\n",
       "<style scoped>\n",
       "    .dataframe tbody tr th:only-of-type {\n",
       "        vertical-align: middle;\n",
       "    }\n",
       "\n",
       "    .dataframe tbody tr th {\n",
       "        vertical-align: top;\n",
       "    }\n",
       "\n",
       "    .dataframe thead th {\n",
       "        text-align: right;\n",
       "    }\n",
       "</style>\n",
       "<table border=\"1\" class=\"dataframe\">\n",
       "  <thead>\n",
       "    <tr style=\"text-align: right;\">\n",
       "      <th></th>\n",
       "      <th>ds</th>\n",
       "      <th>trend</th>\n",
       "      <th>yhat_lower</th>\n",
       "      <th>yhat_upper</th>\n",
       "      <th>trend_lower</th>\n",
       "      <th>trend_upper</th>\n",
       "      <th>additive_terms</th>\n",
       "      <th>additive_terms_lower</th>\n",
       "      <th>additive_terms_upper</th>\n",
       "      <th>daily</th>\n",
       "      <th>daily_lower</th>\n",
       "      <th>daily_upper</th>\n",
       "      <th>weekly</th>\n",
       "      <th>weekly_lower</th>\n",
       "      <th>weekly_upper</th>\n",
       "      <th>multiplicative_terms</th>\n",
       "      <th>multiplicative_terms_lower</th>\n",
       "      <th>multiplicative_terms_upper</th>\n",
       "      <th>yhat</th>\n",
       "    </tr>\n",
       "  </thead>\n",
       "  <tbody>\n",
       "    <tr>\n",
       "      <th>0</th>\n",
       "      <td>2024-01-13 05:00:00.260439</td>\n",
       "      <td>9.920122</td>\n",
       "      <td>0.689161</td>\n",
       "      <td>11.899509</td>\n",
       "      <td>9.920122</td>\n",
       "      <td>9.920122</td>\n",
       "      <td>-3.787474</td>\n",
       "      <td>-3.787474</td>\n",
       "      <td>-3.787474</td>\n",
       "      <td>-4.424759</td>\n",
       "      <td>-4.424759</td>\n",
       "      <td>-4.424759</td>\n",
       "      <td>0.637285</td>\n",
       "      <td>0.637285</td>\n",
       "      <td>0.637285</td>\n",
       "      <td>0.0</td>\n",
       "      <td>0.0</td>\n",
       "      <td>0.0</td>\n",
       "      <td>6.132648</td>\n",
       "    </tr>\n",
       "    <tr>\n",
       "      <th>1</th>\n",
       "      <td>2024-01-13 05:05:00.330773</td>\n",
       "      <td>9.919765</td>\n",
       "      <td>0.705696</td>\n",
       "      <td>12.742365</td>\n",
       "      <td>9.919765</td>\n",
       "      <td>9.919765</td>\n",
       "      <td>-3.462729</td>\n",
       "      <td>-3.462729</td>\n",
       "      <td>-3.462729</td>\n",
       "      <td>-4.092557</td>\n",
       "      <td>-4.092557</td>\n",
       "      <td>-4.092557</td>\n",
       "      <td>0.629827</td>\n",
       "      <td>0.629827</td>\n",
       "      <td>0.629827</td>\n",
       "      <td>0.0</td>\n",
       "      <td>0.0</td>\n",
       "      <td>0.0</td>\n",
       "      <td>6.457035</td>\n",
       "    </tr>\n",
       "    <tr>\n",
       "      <th>2</th>\n",
       "      <td>2024-01-13 05:10:00.455337</td>\n",
       "      <td>9.919407</td>\n",
       "      <td>0.722512</td>\n",
       "      <td>12.586054</td>\n",
       "      <td>9.919407</td>\n",
       "      <td>9.919407</td>\n",
       "      <td>-3.134222</td>\n",
       "      <td>-3.134222</td>\n",
       "      <td>-3.134222</td>\n",
       "      <td>-3.756583</td>\n",
       "      <td>-3.756583</td>\n",
       "      <td>-3.756583</td>\n",
       "      <td>0.622361</td>\n",
       "      <td>0.622361</td>\n",
       "      <td>0.622361</td>\n",
       "      <td>0.0</td>\n",
       "      <td>0.0</td>\n",
       "      <td>0.0</td>\n",
       "      <td>6.785186</td>\n",
       "    </tr>\n",
       "    <tr>\n",
       "      <th>3</th>\n",
       "      <td>2024-01-13 05:15:00.386167</td>\n",
       "      <td>9.919050</td>\n",
       "      <td>1.542795</td>\n",
       "      <td>12.815583</td>\n",
       "      <td>9.919050</td>\n",
       "      <td>9.919050</td>\n",
       "      <td>-2.802871</td>\n",
       "      <td>-2.802871</td>\n",
       "      <td>-2.802871</td>\n",
       "      <td>-3.417757</td>\n",
       "      <td>-3.417757</td>\n",
       "      <td>-3.417757</td>\n",
       "      <td>0.614886</td>\n",
       "      <td>0.614886</td>\n",
       "      <td>0.614886</td>\n",
       "      <td>0.0</td>\n",
       "      <td>0.0</td>\n",
       "      <td>0.0</td>\n",
       "      <td>7.116179</td>\n",
       "    </tr>\n",
       "    <tr>\n",
       "      <th>4</th>\n",
       "      <td>2024-01-13 05:20:00.288023</td>\n",
       "      <td>9.918693</td>\n",
       "      <td>1.199735</td>\n",
       "      <td>13.359957</td>\n",
       "      <td>9.918693</td>\n",
       "      <td>9.918693</td>\n",
       "      <td>-2.469605</td>\n",
       "      <td>-2.469605</td>\n",
       "      <td>-2.469605</td>\n",
       "      <td>-3.077007</td>\n",
       "      <td>-3.077007</td>\n",
       "      <td>-3.077007</td>\n",
       "      <td>0.607402</td>\n",
       "      <td>0.607402</td>\n",
       "      <td>0.607402</td>\n",
       "      <td>0.0</td>\n",
       "      <td>0.0</td>\n",
       "      <td>0.0</td>\n",
       "      <td>7.449088</td>\n",
       "    </tr>\n",
       "  </tbody>\n",
       "</table>\n",
       "</div>"
      ],
      "text/plain": [
       "                          ds     trend  yhat_lower  yhat_upper  trend_lower  \\\n",
       "0 2024-01-13 05:00:00.260439  9.920122    0.689161   11.899509     9.920122   \n",
       "1 2024-01-13 05:05:00.330773  9.919765    0.705696   12.742365     9.919765   \n",
       "2 2024-01-13 05:10:00.455337  9.919407    0.722512   12.586054     9.919407   \n",
       "3 2024-01-13 05:15:00.386167  9.919050    1.542795   12.815583     9.919050   \n",
       "4 2024-01-13 05:20:00.288023  9.918693    1.199735   13.359957     9.918693   \n",
       "\n",
       "   trend_upper  additive_terms  additive_terms_lower  additive_terms_upper  \\\n",
       "0     9.920122       -3.787474             -3.787474             -3.787474   \n",
       "1     9.919765       -3.462729             -3.462729             -3.462729   \n",
       "2     9.919407       -3.134222             -3.134222             -3.134222   \n",
       "3     9.919050       -2.802871             -2.802871             -2.802871   \n",
       "4     9.918693       -2.469605             -2.469605             -2.469605   \n",
       "\n",
       "      daily  daily_lower  daily_upper    weekly  weekly_lower  weekly_upper  \\\n",
       "0 -4.424759    -4.424759    -4.424759  0.637285      0.637285      0.637285   \n",
       "1 -4.092557    -4.092557    -4.092557  0.629827      0.629827      0.629827   \n",
       "2 -3.756583    -3.756583    -3.756583  0.622361      0.622361      0.622361   \n",
       "3 -3.417757    -3.417757    -3.417757  0.614886      0.614886      0.614886   \n",
       "4 -3.077007    -3.077007    -3.077007  0.607402      0.607402      0.607402   \n",
       "\n",
       "   multiplicative_terms  multiplicative_terms_lower  \\\n",
       "0                   0.0                         0.0   \n",
       "1                   0.0                         0.0   \n",
       "2                   0.0                         0.0   \n",
       "3                   0.0                         0.0   \n",
       "4                   0.0                         0.0   \n",
       "\n",
       "   multiplicative_terms_upper      yhat  \n",
       "0                         0.0  6.132648  \n",
       "1                         0.0  6.457035  \n",
       "2                         0.0  6.785186  \n",
       "3                         0.0  7.116179  \n",
       "4                         0.0  7.449088  "
      ]
     },
     "execution_count": 24,
     "metadata": {},
     "output_type": "execute_result"
    }
   ],
   "source": [
    "forecast.head()"
   ]
  },
  {
   "cell_type": "code",
   "execution_count": 25,
   "metadata": {},
   "outputs": [
    {
     "name": "stdout",
     "output_type": "stream",
     "text": [
      "Test MSE: 28.86532869049519\n",
      "Test MAE: 4.332346225048891\n"
     ]
    }
   ],
   "source": [
    "\n",
    "predictions = forecast['yhat'][-len(test):]\n",
    "\n",
    "from sklearn.metrics import mean_squared_error, mean_absolute_error\n",
    "\n",
    "actual = test['y']\n",
    "\n",
    "mse_test = mean_squared_error(actual, predictions)\n",
    "mae_test = mean_absolute_error(actual, predictions)\n",
    "\n",
    "print(f\"Test MSE: {mse_test}\")\n",
    "print(f\"Test MAE: {mae_test}\")"
   ]
  },
  {
   "cell_type": "code",
   "execution_count": 26,
   "metadata": {},
   "outputs": [],
   "source": [
    "import matplotlib.pyplot as plt"
   ]
  },
  {
   "cell_type": "code",
   "execution_count": 30,
   "metadata": {},
   "outputs": [
    {
     "data": {
      "text/html": [
       "<div>\n",
       "<style scoped>\n",
       "    .dataframe tbody tr th:only-of-type {\n",
       "        vertical-align: middle;\n",
       "    }\n",
       "\n",
       "    .dataframe tbody tr th {\n",
       "        vertical-align: top;\n",
       "    }\n",
       "\n",
       "    .dataframe thead th {\n",
       "        text-align: right;\n",
       "    }\n",
       "</style>\n",
       "<table border=\"1\" class=\"dataframe\">\n",
       "  <thead>\n",
       "    <tr style=\"text-align: right;\">\n",
       "      <th></th>\n",
       "      <th>Unnamed: 0</th>\n",
       "      <th>Timestamp</th>\n",
       "      <th>Detections</th>\n",
       "      <th>index</th>\n",
       "      <th>WeatherMain</th>\n",
       "      <th>Temperature</th>\n",
       "      <th>WeatherDescription</th>\n",
       "      <th>ds</th>\n",
       "      <th>y</th>\n",
       "    </tr>\n",
       "  </thead>\n",
       "  <tbody>\n",
       "    <tr>\n",
       "      <th>13905</th>\n",
       "      <td>13905</td>\n",
       "      <td>2024-01-13 05:00:00.260439</td>\n",
       "      <td>7</td>\n",
       "      <td>5129</td>\n",
       "      <td>0</td>\n",
       "      <td>-2.61</td>\n",
       "      <td>clear sky</td>\n",
       "      <td>2024-01-13 05:00:00.260439</td>\n",
       "      <td>7</td>\n",
       "    </tr>\n",
       "    <tr>\n",
       "      <th>13906</th>\n",
       "      <td>13906</td>\n",
       "      <td>2024-01-13 05:05:00.330773</td>\n",
       "      <td>2</td>\n",
       "      <td>12860</td>\n",
       "      <td>0</td>\n",
       "      <td>-2.61</td>\n",
       "      <td>clear sky</td>\n",
       "      <td>2024-01-13 05:05:00.330773</td>\n",
       "      <td>2</td>\n",
       "    </tr>\n",
       "    <tr>\n",
       "      <th>13907</th>\n",
       "      <td>13907</td>\n",
       "      <td>2024-01-13 05:10:00.455337</td>\n",
       "      <td>7</td>\n",
       "      <td>7651</td>\n",
       "      <td>0</td>\n",
       "      <td>-2.61</td>\n",
       "      <td>clear sky</td>\n",
       "      <td>2024-01-13 05:10:00.455337</td>\n",
       "      <td>7</td>\n",
       "    </tr>\n",
       "    <tr>\n",
       "      <th>13908</th>\n",
       "      <td>13908</td>\n",
       "      <td>2024-01-13 05:15:00.386167</td>\n",
       "      <td>8</td>\n",
       "      <td>4777</td>\n",
       "      <td>0</td>\n",
       "      <td>-2.61</td>\n",
       "      <td>clear sky</td>\n",
       "      <td>2024-01-13 05:15:00.386167</td>\n",
       "      <td>8</td>\n",
       "    </tr>\n",
       "    <tr>\n",
       "      <th>13909</th>\n",
       "      <td>13909</td>\n",
       "      <td>2024-01-13 05:20:00.288023</td>\n",
       "      <td>6</td>\n",
       "      <td>7309</td>\n",
       "      <td>0</td>\n",
       "      <td>-2.61</td>\n",
       "      <td>clear sky</td>\n",
       "      <td>2024-01-13 05:20:00.288023</td>\n",
       "      <td>6</td>\n",
       "    </tr>\n",
       "  </tbody>\n",
       "</table>\n",
       "</div>"
      ],
      "text/plain": [
       "       Unnamed: 0                  Timestamp  Detections  index  WeatherMain  \\\n",
       "13905       13905 2024-01-13 05:00:00.260439           7   5129            0   \n",
       "13906       13906 2024-01-13 05:05:00.330773           2  12860            0   \n",
       "13907       13907 2024-01-13 05:10:00.455337           7   7651            0   \n",
       "13908       13908 2024-01-13 05:15:00.386167           8   4777            0   \n",
       "13909       13909 2024-01-13 05:20:00.288023           6   7309            0   \n",
       "\n",
       "       Temperature WeatherDescription                         ds  y  \n",
       "13905        -2.61          clear sky 2024-01-13 05:00:00.260439  7  \n",
       "13906        -2.61          clear sky 2024-01-13 05:05:00.330773  2  \n",
       "13907        -2.61          clear sky 2024-01-13 05:10:00.455337  7  \n",
       "13908        -2.61          clear sky 2024-01-13 05:15:00.386167  8  \n",
       "13909        -2.61          clear sky 2024-01-13 05:20:00.288023  6  "
      ]
     },
     "execution_count": 30,
     "metadata": {},
     "output_type": "execute_result"
    }
   ],
   "source": [
    "test.head()"
   ]
  },
  {
   "cell_type": "code",
   "execution_count": 32,
   "metadata": {},
   "outputs": [
    {
     "data": {
      "text/plain": [
       "13905    7\n",
       "13906    2\n",
       "13907    7\n",
       "13908    8\n",
       "13909    6\n",
       "Name: y, dtype: int64"
      ]
     },
     "execution_count": 32,
     "metadata": {},
     "output_type": "execute_result"
    }
   ],
   "source": [
    "actual.head()"
   ]
  },
  {
   "cell_type": "code",
   "execution_count": null,
   "metadata": {},
   "outputs": [],
   "source": [
    "pred"
   ]
  },
  {
   "cell_type": "code",
   "execution_count": 33,
   "metadata": {},
   "outputs": [
    {
     "data": {
      "image/png": "[encoded data removed]",
      "text/plain": [
       "<Figure size 640x480 with 1 Axes>"
      ]
     },
     "metadata": {},
     "output_type": "display_data"
    }
   ],
   "source": [
    "plt.plot(test['Timestamp'], actual)\n",
    "plt.plot(test['Timestamp'], predictions)\n",
    "plt.show()"
   ]
  },
  {
   "cell_type": "code",
   "execution_count": 37,
   "metadata": {},
   "outputs": [
    {
     "name": "stdout",
     "output_type": "stream",
     "text": [
      "732\n"
     ]
    }
   ],
   "source": [
    "print(len(actual))"
   ]
  },
  {
   "cell_type": "code",
   "execution_count": 13,
   "metadata": {},
   "outputs": [
    {
     "name": "stdout",
     "output_type": "stream",
     "text": [
      "7\n"
     ]
    }
   ],
   "source": [
    "print(actual.iloc[0])"
   ]
  },
  {
   "cell_type": "code",
   "execution_count": 14,
   "metadata": {},
   "outputs": [
    {
     "name": "stdout",
     "output_type": "stream",
     "text": [
      "4.119556476206736\n"
     ]
    }
   ],
   "source": [
    "print(predictions.iloc[0])"
   ]
  },
  {
   "cell_type": "code",
   "execution_count": 15,
   "metadata": {},
   "outputs": [
    {
     "name": "stdout",
     "output_type": "stream",
     "text": [
      "7 4.119556476206736\n",
      "2 3.9153187001113707\n",
      "7 4.5310465466034735\n",
      "8 5.167985087369467\n",
      "6 4.262183400671794\n",
      "1 5.687361931179728\n",
      "9 4.962127639261485\n",
      "9 3.31716099392243\n",
      "13 3.112923217824968\n",
      "7 3.728651064314933\n",
      "12 4.365589605083469\n",
      "9 3.45978791833657\n",
      "10 4.884966448842016\n",
      "7 4.15973215675155\n",
      "7 2.5147655116412384\n",
      "14 2.310527735538569\n",
      "4 2.9262555820315477\n",
      "6 3.5631941227980306\n",
      "9 2.6573924360512367\n",
      "13 4.08257096655861\n"
     ]
    }
   ],
   "source": [
    "suma = 0\n",
    "for i in range(20):\n",
    "    suma += (actual.iloc[i] - predictions.iloc[i]) ** 2\n",
    "    print(actual.iloc[i], predictions.iloc[i])\n",
    "suma /= len(predictions)"
   ]
  },
  {
   "cell_type": "code",
   "execution_count": 16,
   "metadata": {},
   "outputs": [
    {
     "data": {
      "text/plain": [
       "0.8400792421872185"
      ]
     },
     "execution_count": 16,
     "metadata": {},
     "output_type": "execute_result"
    }
   ],
   "source": [
    "suma"
   ]
  },
  {
   "cell_type": "code",
   "execution_count": 17,
   "metadata": {},
   "outputs": [
    {
     "name": "stdout",
     "output_type": "stream",
     "text": [
      "732\n"
     ]
    }
   ],
   "source": [
    "print(len(test))"
   ]
  },
  {
   "cell_type": "code",
   "execution_count": 18,
   "metadata": {},
   "outputs": [
    {
     "data": {
      "text/plain": [
       "13905     7\n",
       "13906     2\n",
       "13907     7\n",
       "13908     8\n",
       "13909     6\n",
       "         ..\n",
       "14632     9\n",
       "14633     7\n",
       "14634    15\n",
       "14635    12\n",
       "14636    11\n",
       "Name: y, Length: 732, dtype: int64"
      ]
     },
     "execution_count": 18,
     "metadata": {},
     "output_type": "execute_result"
    }
   ],
   "source": [
    "actual"
   ]
  },
  {
   "cell_type": "code",
   "execution_count": 19,
   "metadata": {},
   "outputs": [
    {
     "data": {
      "text/plain": [
       "12028    4.119556\n",
       "12029    3.915319\n",
       "12030    4.531047\n",
       "12031    5.167985\n",
       "12032    4.262183\n",
       "Name: yhat, dtype: float64"
      ]
     },
     "execution_count": 19,
     "metadata": {},
     "output_type": "execute_result"
    }
   ],
   "source": [
    "predictions.head()"
   ]
  },
  {
   "cell_type": "code",
   "execution_count": 20,
   "metadata": {},
   "outputs": [
    {
     "data": {
      "text/plain": [
       "27"
      ]
     },
     "execution_count": 20,
     "metadata": {},
     "output_type": "execute_result"
    }
   ],
   "source": [
    "max(actual)"
   ]
  },
  {
   "cell_type": "code",
   "execution_count": 21,
   "metadata": {},
   "outputs": [
    {
     "data": {
      "text/plain": [
       "5.687361931179728"
      ]
     },
     "execution_count": 21,
     "metadata": {},
     "output_type": "execute_result"
    }
   ],
   "source": [
    "max(predictions)"
   ]
  },
  {
   "cell_type": "code",
   "execution_count": null,
   "metadata": {},
   "outputs": [],
   "source": []
  }
 ],
 "metadata": {
  "kernelspec": {
   "display_name": "venv",
   "language": "python",
   "name": "python3"
  },
  "language_info": {
   "codemirror_mode": {
    "name": "ipython",
    "version": 3
   },
   "file_extension": ".py",
   "mimetype": "text/x-python",
   "name": "python",
   "nbconvert_exporter": "python",
   "pygments_lexer": "ipython3",
   "version": "3.10.0"
  }
 },
 "nbformat": 4,
 "nbformat_minor": 2
}
